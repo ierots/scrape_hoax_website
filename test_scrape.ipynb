{
 "cells": [
  {
   "cell_type": "code",
   "execution_count": 1,
   "metadata": {},
   "outputs": [],
   "source": [
    "import numpy as np\n",
    "import pandas as pd \n",
    "import matplotlib.pyplot as plt \n",
    "from bs4 import BeautifulSoup\n",
    "import requests\n",
    "import os \n",
    "import json\n",
    "import sys \n",
    "import re\n",
    "import time\n",
    "\n",
    "###### Import selenium dependencies\n",
    "from selenium import webdriver\n",
    "from selenium.webdriver.chrome.options import Options  \n",
    "from selenium.webdriver.common.keys import Keys\n",
    "\n",
    "%matplotlib inline"
   ]
  },
  {
   "cell_type": "markdown",
   "metadata": {},
   "source": [
    "#### Set up chrome options for the browser\n",
    "\n",
    "In this section, we can add keyboard arguments to the chrome browser as options. The website https://peter.sh/experiments/chromium-command-line-switches/ contains all the possible extensions to the chrome option class. "
   ]
  },
  {
   "cell_type": "code",
   "execution_count": 2,
   "metadata": {},
   "outputs": [],
   "source": [
    "## Set up chrome Options \n",
    "\n",
    "chrome_options = Options()  \n",
    "chrome_options.add_argument(\"--headless\") "
   ]
  },
  {
   "cell_type": "markdown",
   "metadata": {},
   "source": [
    "#### Spider Class"
   ]
  },
  {
   "cell_type": "code",
   "execution_count": 3,
   "metadata": {},
   "outputs": [],
   "source": [
    "class hoaxSpider():\n",
    "    \n",
    "    def __init__(self):\n",
    "        \n",
    "        self.URL=\"http://www.warriorelihoax.com\"\n",
    "        self.content = self.get_request()\n",
    "        self.soup = self.get_soup()\n",
    "        \n",
    "    def get_request(self):\n",
    "        content = requests.get(self.URL).content\n",
    "        return content\n",
    "    \n",
    "    def get_soup(self):\n",
    "        soup = BeautifulSoup(self.content,'html.parser')\n",
    "        return soup\n",
    "    \n",
    "    def get_names_cases(self):\n",
    "        all_tables = self.soup.find_all(id = \"cat\")\n",
    "        txt = \"\"\n",
    "        for i in all_tables:\n",
    "            txt+=i.text.strip()\n",
    "        cases = []\n",
    "        for i in txt.split(\"\\n\"):\n",
    "            reg = re.findall(r\"^[^\\(]+\", i)\n",
    "            cases.append(reg)\n",
    "        flat_list = [item for sublist in cases for item in sublist]\n",
    "        newL = []\n",
    "        for i in flat_list:\n",
    "            newL.append(i.replace(u'\\xa0', u''))\n",
    "        return newL[1:] \n",
    "    \n",
    "    def select_hoax_case(self, dropdown = '//*[@id=\"cat\"]'):\n",
    "        \n",
    "        self.driver = webdriver.Chrome()\n",
    "        self.driver.get(\"http://www.warriorelihoax.com\")\n",
    "        python_button = self.driver.find_element_by_xpath(dropdown + '/option[5]')\n",
    "        python_button.click()\n",
    "\n",
    "    def scrape_images(self, dropdown = '//*[@id=\"cat\"]'):\n",
    "        self.driver = webdriver.Chrome()\n",
    "        self.driver.get(\"http://www.warriorelihoax.com\")\n",
    "        option = 20\n",
    "        while option:\n",
    "            time.sleep(1)\n",
    "            try:\n",
    "                python_button = self.driver.find_element_by_xpath(dropdown + '/option[' + str(option) + ']')\n",
    "            except:\n",
    "                break\n",
    "            python_button.click()\n",
    "            option += 1\n",
    "        "
   ]
  },
  {
   "cell_type": "code",
   "execution_count": 4,
   "metadata": {},
   "outputs": [],
   "source": [
    "spider = hoaxSpider()"
   ]
  },
  {
   "cell_type": "code",
   "execution_count": 5,
   "metadata": {},
   "outputs": [],
   "source": [
    "case_names = spider.get_names_cases()"
   ]
  },
  {
   "cell_type": "code",
   "execution_count": 6,
   "metadata": {},
   "outputs": [],
   "source": [
    "spider.scrape_images()"
   ]
  },
  {
   "cell_type": "code",
   "execution_count": 7,
   "metadata": {},
   "outputs": [
    {
     "ename": "SyntaxError",
     "evalue": "invalid syntax (<ipython-input-7-b16e5dc1797c>, line 31)",
     "output_type": "error",
     "traceback": [
      "\u001b[1;36m  File \u001b[1;32m\"<ipython-input-7-b16e5dc1797c>\"\u001b[1;36m, line \u001b[1;32m31\u001b[0m\n\u001b[1;33m    def dowload_images()\u001b[0m\n\u001b[1;37m                        ^\u001b[0m\n\u001b[1;31mSyntaxError\u001b[0m\u001b[1;31m:\u001b[0m invalid syntax\n"
     ]
    }
   ],
   "source": [
    "driver = webdriver.Chrome()\n",
    "driver.get(\"http://www.warriorelihoax.com\")\n",
    "\n",
    "def scrape_cases_text():\n",
    "    \n",
    "    URL=\"http://www.warriorelihoax.com\"\n",
    "    content=requests.get(URL).content\n",
    "    soup=BeautifulSoup(content,'html.parser')\n",
    "    all_tables=soup.find_all(id = \"cat\")\n",
    "    txt = \"\"\n",
    "    for i in all_tables:\n",
    "        txt+=i.text.strip()\n",
    "    cases = []\n",
    "    for i in txt.split(\"\\n\"):\n",
    "        reg = re.findall(r\"^[^\\(]+\", i)\n",
    "        cases.append(reg)\n",
    "    flat_list = [item for sublist in cases for item in sublist]\n",
    "    newL = []\n",
    "    for i in flat_list:\n",
    "        newL.append(i.replace(u'\\xa0', u''))\n",
    "    return newL[1:] \n",
    "    \n",
    "    \n",
    "\n",
    "def select_hoax_case(dropdown = '//*[@id=\"cat\"]'):\n",
    "    \n",
    "    python_button = driver.find_element_by_xpath(dropdown + '/option[2]')\n",
    "    python_button.click()\n",
    "    \n",
    "    \n",
    "def dowload_images()\n",
    "    \n",
    "select_hoax_case()"
   ]
  },
  {
   "cell_type": "code",
   "execution_count": null,
   "metadata": {},
   "outputs": [],
   "source": []
  }
 ],
 "metadata": {
  "kernelspec": {
   "display_name": "Python 3",
   "language": "python",
   "name": "python3"
  },
  "language_info": {
   "codemirror_mode": {
    "name": "ipython",
    "version": 3
   },
   "file_extension": ".py",
   "mimetype": "text/x-python",
   "name": "python",
   "nbconvert_exporter": "python",
   "pygments_lexer": "ipython3",
   "version": "3.7.3"
  }
 },
 "nbformat": 4,
 "nbformat_minor": 4
}
