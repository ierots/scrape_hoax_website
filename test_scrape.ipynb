{
 "cells": [
  {
   "cell_type": "code",
   "execution_count": 3,
   "metadata": {},
   "outputs": [],
   "source": [
    "import numpy as np\n",
    "import pandas as pd \n",
    "import matplotlib.pyplot as plt \n",
    "from bs4 import BeautifulSoup\n",
    "import urllib.request\n",
    "import requests\n",
    "import os \n",
    "import json\n",
    "import sys \n",
    "import re\n",
    "import time\n",
    "import tqdm\n",
    "\n",
    "###### Import selenium dependencies\n",
    "from selenium import webdriver\n",
    "from selenium.webdriver.chrome.options import Options  \n",
    "from selenium.webdriver.common.keys import Keys\n",
    "\n",
    "%matplotlib inline"
   ]
  },
  {
   "cell_type": "markdown",
   "metadata": {},
   "source": [
    "#### Set up chrome options for the browser\n",
    "\n",
    "In this section, we can add keyboard arguments to the chrome browser as options. The website https://peter.sh/experiments/chromium-command-line-switches/ contains all the possible extensions to the chrome option class. "
   ]
  },
  {
   "cell_type": "code",
   "execution_count": 4,
   "metadata": {},
   "outputs": [],
   "source": [
    "## Set up chrome Options \n",
    "\n",
    "chrome_options = Options()  \n",
    "chrome_options.add_argument(\"--headless\") "
   ]
  },
  {
   "cell_type": "markdown",
   "metadata": {},
   "source": [
    "#### Spider Class"
   ]
  },
  {
   "cell_type": "code",
   "execution_count": 5,
   "metadata": {},
   "outputs": [],
   "source": [
    "class hoaxSpider():\n",
    "    \n",
    "    def __init__(self):\n",
    "        \n",
    "        self.URL=\"http://www.warriorelihoax.com\"\n",
    "        self.content = self.get_request()\n",
    "        self.soup = self.get_soup()\n",
    "        self.cases = self.get_names_cases()\n",
    "        \n",
    "    def get_request(self):\n",
    "        content = requests.get(self.URL).content\n",
    "        return content\n",
    "    \n",
    "    def get_soup(self):\n",
    "        soup = BeautifulSoup(self.content,'html.parser')\n",
    "        return soup\n",
    "    \n",
    "    def get_names_cases(self):\n",
    "        all_tables = self.soup.find_all(id = \"cat\")\n",
    "        txt = \"\"\n",
    "        for i in all_tables:\n",
    "            txt+=i.text.strip()\n",
    "        cases = []\n",
    "        for i in txt.split(\"\\n\"):\n",
    "            reg = re.findall(r\"^[^\\(]+\", i)\n",
    "            cases.append(reg)\n",
    "        flat_list = [item for sublist in cases for item in sublist]\n",
    "        newL = []\n",
    "        for i in flat_list:\n",
    "            newL.append(i.replace(u'\\xa0', u'').replace(\" \", \"-\"))\n",
    "        return newL[1:] \n",
    "    \n",
    "    def select_hoax_case(self, dropdown = '//*[@id=\"cat\"]'):\n",
    "        \n",
    "        self.driver = webdriver.Chrome()\n",
    "        self.driver.get(\"http://www.warriorelihoax.com\")\n",
    "        python_button = self.driver.find_element_by_xpath(dropdown + '/option[5]')\n",
    "        python_button.click()\n",
    "\n",
    "    def scrape_images(self, dropdown = '//*[@id=\"cat\"]'):\n",
    "        \n",
    "        #init a chrome driver. Add headless option!\n",
    "        self.driver = webdriver.Chrome()\n",
    "        self.driver.get(self.URL)\n",
    "        \n",
    "        # option is the number of cases. This variable is embedded into python_button in order to automatically \n",
    "        # change the pages\n",
    "        option = 42\n",
    "        while option:\n",
    "            time.sleep(1)\n",
    "            try:\n",
    "                python_button = self.driver.find_element_by_xpath(dropdown + '/option[' + str(option) + ']')\n",
    "         \n",
    "                #get the link for every page. This involves to call the get_names_cases. \n",
    "                new_URL = self.URL + \"/category/\" + self.cases[option-1] + \"/\"\n",
    "                python_button.click()\n",
    "                \n",
    "                #scrape for the images!\n",
    "                self.URL = new_URL\n",
    "                self.content = self.get_request()\n",
    "                self.soup = self.get_soup()\n",
    "                \n",
    "                find_images = self.soup.find_all(\"a\", href = True) #{\"id\": re.compile(r'\\d+')}\n",
    "                \n",
    "                #create the directories\n",
    "                dir_name = self.cases[option-1]\n",
    "                if not os.path.exists(dir_name):\n",
    "                    os.makedirs(dir_name)\n",
    "                    if not os.path.exists(dir_name + \"/Images\"):\n",
    "                        os.makedirs(dir_name + \"/Images\")\n",
    "                        \n",
    "                #download images and store to directory\n",
    "                counter = 1\n",
    "                for img in tqdm.tqdm(find_images):\n",
    "                    try:\n",
    "                        urllib.request.urlretrieve(img[\"href\"], dir_name + \"/Images/\" + \"Img_\" + str(counter) + \".jpg\")\n",
    "                        counter += 1\n",
    "                    except:\n",
    "                        pass\n",
    "                    \n",
    "            except:\n",
    "                break\n",
    "            \n",
    "\n",
    "            \n",
    "            option += 1\n",
    "        \n",
    "        return find_images\n",
    "            \n",
    "            \n",
    "            "
   ]
  },
  {
   "cell_type": "code",
   "execution_count": 6,
   "metadata": {},
   "outputs": [],
   "source": [
    "spider = hoaxSpider()"
   ]
  },
  {
   "cell_type": "code",
   "execution_count": 7,
   "metadata": {},
   "outputs": [],
   "source": [
    "case_names = spider.get_names_cases()"
   ]
  },
  {
   "cell_type": "code",
   "execution_count": 8,
   "metadata": {},
   "outputs": [
    {
     "name": "stderr",
     "output_type": "stream",
     "text": [
      "  0%|                                                                                          | 0/166 [00:00<?, ?it/s]"
     ]
    },
    {
     "name": "stdout",
     "output_type": "stream",
     "text": [
      "#content\n",
      "Warrior-Eli-Hoax/Images/Img_1.jpg\n",
      "http://www.warriorelihoax.com/\n",
      "Warrior-Eli-Hoax/Images/Img_1.jpg\n"
     ]
    },
    {
     "name": "stderr",
     "output_type": "stream",
     "text": [
      "  1%|▉                                                                                 | 2/166 [00:00<00:31,  5.28it/s]"
     ]
    },
    {
     "name": "stdout",
     "output_type": "stream",
     "text": [
      "http://warriorelihoax.com/\n",
      "Warrior-Eli-Hoax/Images/Img_2.jpg\n"
     ]
    },
    {
     "name": "stderr",
     "output_type": "stream",
     "text": [
      "  2%|█▍                                                                                | 3/166 [00:02<02:26,  1.11it/s]"
     ]
    },
    {
     "name": "stdout",
     "output_type": "stream",
     "text": [
      "http://www.warriorelihoax.com/links/\n",
      "Warrior-Eli-Hoax/Images/Img_3.jpg\n"
     ]
    },
    {
     "name": "stderr",
     "output_type": "stream",
     "text": [
      "  2%|█▉                                                                                | 4/166 [00:03<01:59,  1.36it/s]"
     ]
    },
    {
     "name": "stdout",
     "output_type": "stream",
     "text": [
      "http://www.warriorelihoax.com/report-a-suspected-hoax/\n",
      "Warrior-Eli-Hoax/Images/Img_4.jpg\n"
     ]
    },
    {
     "name": "stderr",
     "output_type": "stream",
     "text": [
      "  3%|██▍                                                                               | 5/166 [00:03<01:43,  1.56it/s]"
     ]
    },
    {
     "name": "stdout",
     "output_type": "stream",
     "text": [
      "https://www.facebook.com/WarriorEliHoax\n",
      "Warrior-Eli-Hoax/Images/Img_5.jpg\n"
     ]
    },
    {
     "name": "stderr",
     "output_type": "stream",
     "text": [
      "  4%|██▉                                                                               | 6/166 [00:04<01:37,  1.65it/s]"
     ]
    },
    {
     "name": "stdout",
     "output_type": "stream",
     "text": [
      "http://warriorelihoax.tumblr.com/\n",
      "Warrior-Eli-Hoax/Images/Img_6.jpg\n"
     ]
    },
    {
     "name": "stderr",
     "output_type": "stream",
     "text": [
      "  4%|███▍                                                                              | 7/166 [00:05<01:55,  1.38it/s]"
     ]
    },
    {
     "name": "stdout",
     "output_type": "stream",
     "text": [
      "https://twitter.com/WarriorEliHoax\n",
      "Warrior-Eli-Hoax/Images/Img_7.jpg\n"
     ]
    },
    {
     "name": "stderr",
     "output_type": "stream",
     "text": [
      "  5%|███▉                                                                              | 8/166 [00:05<01:40,  1.57it/s]"
     ]
    },
    {
     "name": "stdout",
     "output_type": "stream",
     "text": [
      "http://www.warriorelihoax.com/2013/01/10/emily-dirr-and-warrior-eli/\n",
      "Warrior-Eli-Hoax/Images/Img_8.jpg\n"
     ]
    },
    {
     "name": "stderr",
     "output_type": "stream",
     "text": [
      "  5%|████▍                                                                             | 9/166 [00:06<01:48,  1.45it/s]"
     ]
    },
    {
     "name": "stdout",
     "output_type": "stream",
     "text": [
      "http://warriorelihoax.wordpress.com/2012/06/05/emilys-runaway-imagination/\n",
      "Warrior-Eli-Hoax/Images/Img_9.jpg\n"
     ]
    },
    {
     "name": "stderr",
     "output_type": "stream",
     "text": [
      "  6%|████▉                                                                            | 10/166 [00:06<01:32,  1.69it/s]"
     ]
    },
    {
     "name": "stdout",
     "output_type": "stream",
     "text": [
      "http://warriorelihoax.wordpress.com/category/emily-dirr/\n",
      "Warrior-Eli-Hoax/Images/Img_9.jpg\n"
     ]
    },
    {
     "name": "stderr",
     "output_type": "stream",
     "text": [
      "  7%|█████▎                                                                           | 11/166 [00:07<01:18,  1.98it/s]"
     ]
    },
    {
     "name": "stdout",
     "output_type": "stream",
     "text": [
      "https://www.facebook.com/WarriorEliHoax\n",
      "Warrior-Eli-Hoax/Images/Img_10.jpg\n"
     ]
    },
    {
     "name": "stderr",
     "output_type": "stream",
     "text": [
      "  7%|█████▊                                                                           | 12/166 [00:07<01:16,  2.00it/s]"
     ]
    },
    {
     "name": "stdout",
     "output_type": "stream",
     "text": [
      "http://0370f4a.netsolhost.com/wordpress2/wp-content/uploads/2012/06/547930_10150950252901153_526411152_12003746_568653530_n-1.jpg\n",
      "Warrior-Eli-Hoax/Images/Img_11.jpg\n"
     ]
    },
    {
     "name": "stderr",
     "output_type": "stream",
     "text": [
      "  8%|██████▎                                                                          | 13/166 [00:08<01:24,  1.81it/s]"
     ]
    },
    {
     "name": "stdout",
     "output_type": "stream",
     "text": [
      "http://warriorelihoax.wordpress.com/2012/05/14/the-death-of-dana-dirr-16/\n",
      "Warrior-Eli-Hoax/Images/Img_12.jpg\n"
     ]
    },
    {
     "name": "stderr",
     "output_type": "stream",
     "text": [
      "  8%|██████▊                                                                          | 14/166 [00:08<01:15,  2.01it/s]"
     ]
    },
    {
     "name": "stdout",
     "output_type": "stream",
     "text": [
      "http://webcache.googleusercontent.com/search?q=cache:fyTqC-WSBMEJ:www.facebook.com/warrioreli/timeline+&cd=13&hl=en&ct=clnk&gl=us\n",
      "Warrior-Eli-Hoax/Images/Img_12.jpg\n"
     ]
    },
    {
     "name": "stderr",
     "output_type": "stream",
     "text": [
      "  9%|███████▎                                                                         | 15/166 [00:09<01:40,  1.50it/s]"
     ]
    },
    {
     "name": "stdout",
     "output_type": "stream",
     "text": [
      "http://0370f4a.netsolhost.com/wordpress2/wp-content/uploads/2012/06/6a00d8341c792353ef0168eb7c94d6970c-800wi1.jpg\n",
      "Warrior-Eli-Hoax/Images/Img_12.jpg\n"
     ]
    },
    {
     "name": "stderr",
     "output_type": "stream",
     "text": [
      " 10%|███████▊                                                                         | 16/166 [00:10<01:34,  1.59it/s]"
     ]
    },
    {
     "name": "stdout",
     "output_type": "stream",
     "text": [
      "http://mwopblog.com\n",
      "Warrior-Eli-Hoax/Images/Img_13.jpg\n"
     ]
    },
    {
     "name": "stderr",
     "output_type": "stream",
     "text": [
      " 10%|████████▎                                                                        | 17/166 [00:10<01:20,  1.86it/s]"
     ]
    },
    {
     "name": "stdout",
     "output_type": "stream",
     "text": [
      "http://www.tineye.com/\n",
      "Warrior-Eli-Hoax/Images/Img_14.jpg\n"
     ]
    },
    {
     "name": "stderr",
     "output_type": "stream",
     "text": [
      " 11%|████████▊                                                                        | 18/166 [00:11<01:15,  1.96it/s]"
     ]
    },
    {
     "name": "stdout",
     "output_type": "stream",
     "text": [
      "https://www.google.com/imghp?hl=en&tab=wi&authuser=0\n",
      "Warrior-Eli-Hoax/Images/Img_15.jpg\n"
     ]
    },
    {
     "name": "stderr",
     "output_type": "stream",
     "text": [
      " 11%|█████████▎                                                                       | 19/166 [00:11<00:58,  2.52it/s]"
     ]
    },
    {
     "name": "stdout",
     "output_type": "stream",
     "text": [
      "http://0370f4a.netsolhost.com/wordpress2/wp-content/uploads/2012/06/twins-birthday-party-at-school-google-chrome-5142012-125029-am1.jpg\n",
      "Warrior-Eli-Hoax/Images/Img_16.jpg\n"
     ]
    },
    {
     "name": "stderr",
     "output_type": "stream",
     "text": [
      " 12%|█████████▊                                                                       | 20/166 [00:11<00:55,  2.64it/s]"
     ]
    },
    {
     "name": "stdout",
     "output_type": "stream",
     "text": [
      "http://www.tertia.org/so_close/2008/12/kid-round-up.html\n",
      "Warrior-Eli-Hoax/Images/Img_17.jpg\n"
     ]
    },
    {
     "name": "stderr",
     "output_type": "stream",
     "text": [
      " 13%|██████████▏                                                                      | 21/166 [00:12<01:08,  2.11it/s]"
     ]
    },
    {
     "name": "stdout",
     "output_type": "stream",
     "text": [
      "http://www.tertia.org/\n",
      "Warrior-Eli-Hoax/Images/Img_18.jpg\n"
     ]
    },
    {
     "name": "stderr",
     "output_type": "stream",
     "text": [
      " 13%|██████████▋                                                                      | 22/166 [00:13<01:47,  1.34it/s]"
     ]
    },
    {
     "name": "stdout",
     "output_type": "stream",
     "text": [
      "http://warriorelihoax.wordpress.com/2012/05/14/js-dirr-truck-accident-2/\n",
      "Warrior-Eli-Hoax/Images/Img_19.jpg\n"
     ]
    },
    {
     "name": "stderr",
     "output_type": "stream",
     "text": [
      " 14%|███████████▏                                                                     | 23/166 [00:13<01:30,  1.58it/s]"
     ]
    },
    {
     "name": "stdout",
     "output_type": "stream",
     "text": [
      "http://warriorelihoax.wordpress.com/2012/05/14/js-dirrs-cardiology-problem/\n",
      "Warrior-Eli-Hoax/Images/Img_19.jpg\n"
     ]
    },
    {
     "name": "stderr",
     "output_type": "stream",
     "text": [
      " 14%|███████████▋                                                                     | 24/166 [00:14<01:25,  1.67it/s]"
     ]
    },
    {
     "name": "stdout",
     "output_type": "stream",
     "text": [
      "http://warriorelihoax.wordpress.com/2012/05/14/fake-pregnant-belly/\n",
      "Warrior-Eli-Hoax/Images/Img_19.jpg\n"
     ]
    },
    {
     "name": "stderr",
     "output_type": "stream",
     "text": [
      " 15%|████████████▏                                                                    | 25/166 [00:14<01:14,  1.90it/s]"
     ]
    },
    {
     "name": "stdout",
     "output_type": "stream",
     "text": [
      "http://warriorelihoax.wordpress.com/2012/05/14/tangled-web-3/\n",
      "Warrior-Eli-Hoax/Images/Img_19.jpg\n"
     ]
    },
    {
     "name": "stderr",
     "output_type": "stream",
     "text": [
      " 16%|████████████▋                                                                    | 26/166 [00:15<01:07,  2.08it/s]"
     ]
    },
    {
     "name": "stdout",
     "output_type": "stream",
     "text": [
      "http://warriorelihoax.wordpress.com/2012/05/16/the-ex-girlfriends-of-js-dirr/\n",
      "Warrior-Eli-Hoax/Images/Img_19.jpg\n"
     ]
    },
    {
     "name": "stderr",
     "output_type": "stream",
     "text": [
      " 16%|█████████████▏                                                                   | 27/166 [00:15<01:02,  2.24it/s]"
     ]
    },
    {
     "name": "stdout",
     "output_type": "stream",
     "text": [
      "http://0370f4a.netsolhost.com/wordpress2/wp-content/uploads/2012/06/crazycanuckj_fullsize_e59e5e31-0e0d-556c-053bbe8e2bd74f3e.jpg\n",
      "Warrior-Eli-Hoax/Images/Img_19.jpg\n"
     ]
    },
    {
     "name": "stderr",
     "output_type": "stream",
     "text": [
      " 17%|█████████████▋                                                                   | 28/166 [00:16<01:01,  2.23it/s]"
     ]
    },
    {
     "name": "stdout",
     "output_type": "stream",
     "text": [
      "http://warriorelihoax.wordpress.com/2012/05/22/timeline/\n",
      "Warrior-Eli-Hoax/Images/Img_20.jpg\n"
     ]
    },
    {
     "name": "stderr",
     "output_type": "stream",
     "text": [
      " 17%|██████████████▏                                                                  | 29/166 [00:16<00:57,  2.37it/s]"
     ]
    },
    {
     "name": "stdout",
     "output_type": "stream",
     "text": [
      "http://warriorelihoax.wordpress.com/2012/05/14/xanga-summary/\n",
      "Warrior-Eli-Hoax/Images/Img_20.jpg\n"
     ]
    },
    {
     "name": "stderr",
     "output_type": "stream",
     "text": [
      " 18%|██████████████▋                                                                  | 30/166 [00:16<00:54,  2.50it/s]"
     ]
    },
    {
     "name": "stdout",
     "output_type": "stream",
     "text": [
      "http://answers.yahoo.com/activity?show=AA11987949\n",
      "Warrior-Eli-Hoax/Images/Img_20.jpg\n"
     ]
    },
    {
     "name": "stderr",
     "output_type": "stream",
     "text": [
      " 19%|███████████████▏                                                                 | 31/166 [00:17<01:09,  1.93it/s]"
     ]
    },
    {
     "name": "stdout",
     "output_type": "stream",
     "text": [
      "http://0370f4a.netsolhost.com/wordpress2/wp-content/uploads/2012/06/fullscreen-capture-652012-72119-am.jpg\n",
      "Warrior-Eli-Hoax/Images/Img_21.jpg\n"
     ]
    },
    {
     "name": "stderr",
     "output_type": "stream",
     "text": [
      " 19%|███████████████▌                                                                 | 32/166 [00:18<01:42,  1.31it/s]"
     ]
    },
    {
     "name": "stdout",
     "output_type": "stream",
     "text": [
      "http://webcache.googleusercontent.com/search?q=cache:NusmL9EQpN4J:familytreemaker.genealogy.com/users/b/xx/xx/H-A-B/WEBSITE-0001/UHP-0368.html+&cd=1&hl=en&ct=clnk&gl=us\n",
      "Warrior-Eli-Hoax/Images/Img_22.jpg\n"
     ]
    },
    {
     "name": "stderr",
     "output_type": "stream",
     "text": [
      " 20%|████████████████                                                                 | 33/166 [00:19<01:53,  1.17it/s]"
     ]
    },
    {
     "name": "stdout",
     "output_type": "stream",
     "text": [
      "http://0370f4a.netsolhost.com/wordpress2/wp-content/uploads/2012/06/warrior-eli-donations-alexs-lemonade-stand-foundation-for-childhood-cancer-google-chrome-5142012-40155-pm-bmp.jpg\n",
      "Warrior-Eli-Hoax/Images/Img_22.jpg\n"
     ]
    },
    {
     "name": "stderr",
     "output_type": "stream",
     "text": [
      " 20%|████████████████▌                                                                | 34/166 [00:20<01:41,  1.30it/s]"
     ]
    },
    {
     "name": "stdout",
     "output_type": "stream",
     "text": [
      "http://0370f4a.netsolhost.com/wordpress2/wp-content/uploads/2012/06/bracelet.jpg\n",
      "Warrior-Eli-Hoax/Images/Img_23.jpg\n"
     ]
    },
    {
     "name": "stderr",
     "output_type": "stream",
     "text": [
      " 21%|█████████████████                                                                | 35/166 [00:20<01:23,  1.57it/s]"
     ]
    },
    {
     "name": "stdout",
     "output_type": "stream",
     "text": [
      "http://0370f4a.netsolhost.com/wordpress2/wp-content/uploads/2012/06/emilypackage.jpg\n",
      "Warrior-Eli-Hoax/Images/Img_24.jpg\n"
     ]
    },
    {
     "name": "stderr",
     "output_type": "stream",
     "text": [
      " 22%|█████████████████▌                                                               | 36/166 [00:22<02:02,  1.06it/s]"
     ]
    },
    {
     "name": "stdout",
     "output_type": "stream",
     "text": [
      "http://warriorelihoax.wordpress.com/2012/05/14/yes-warrior-eli-is-a-hoax/\n",
      "Warrior-Eli-Hoax/Images/Img_25.jpg\n"
     ]
    },
    {
     "name": "stderr",
     "output_type": "stream",
     "text": [
      " 22%|██████████████████                                                               | 37/166 [00:22<01:39,  1.30it/s]"
     ]
    },
    {
     "name": "stdout",
     "output_type": "stream",
     "text": [
      "http://warriorelihoax.wordpress.com/2012/05/15/a-message-from-emily-5-2/\n",
      "Warrior-Eli-Hoax/Images/Img_25.jpg\n"
     ]
    },
    {
     "name": "stderr",
     "output_type": "stream",
     "text": [
      " 23%|██████████████████▌                                                              | 38/166 [00:23<01:23,  1.54it/s]"
     ]
    },
    {
     "name": "stdout",
     "output_type": "stream",
     "text": [
      "http://0370f4a.netsolhost.com/wordpress2/wp-content/uploads/2012/06/caringbridge-eli-dirr-photos-google-chrome-5142012-35415-am.jpg\n",
      "Warrior-Eli-Hoax/Images/Img_25.jpg\n"
     ]
    },
    {
     "name": "stderr",
     "output_type": "stream",
     "text": [
      " 23%|███████████████████                                                              | 39/166 [00:23<01:10,  1.80it/s]"
     ]
    },
    {
     "name": "stdout",
     "output_type": "stream",
     "text": [
      "http://warriorelihoax.wordpress.com/2012/05/17/the-love-story-of-js-dirr-and-reader-2-5-2/\n",
      "Warrior-Eli-Hoax/Images/Img_26.jpg\n"
     ]
    },
    {
     "name": "stderr",
     "output_type": "stream",
     "text": [
      " 24%|███████████████████▌                                                             | 40/166 [00:23<01:02,  2.01it/s]"
     ]
    },
    {
     "name": "stdout",
     "output_type": "stream",
     "text": [
      "http://warriorelihoax.wordpress.com/2012/05/16/reader-1s-response-to-emily/\n",
      "Warrior-Eli-Hoax/Images/Img_26.jpg\n"
     ]
    },
    {
     "name": "stderr",
     "output_type": "stream",
     "text": [
      " 25%|████████████████████                                                             | 41/166 [00:24<00:57,  2.18it/s]"
     ]
    },
    {
     "name": "stdout",
     "output_type": "stream",
     "text": [
      "http://warriorelihoax.wordpress.com/2012/05/19/the-impact/\n",
      "Warrior-Eli-Hoax/Images/Img_26.jpg\n"
     ]
    },
    {
     "name": "stderr",
     "output_type": "stream",
     "text": [
      " 25%|████████████████████▍                                                            | 42/166 [00:24<00:53,  2.33it/s]"
     ]
    },
    {
     "name": "stdout",
     "output_type": "stream",
     "text": [
      "http://warriorelihoax.wordpress.com/2012/05/17/munchausen-by-internet/\n",
      "Warrior-Eli-Hoax/Images/Img_26.jpg\n"
     ]
    },
    {
     "name": "stderr",
     "output_type": "stream",
     "text": [
      " 26%|████████████████████▉                                                            | 43/166 [00:25<00:50,  2.46it/s]"
     ]
    },
    {
     "name": "stdout",
     "output_type": "stream",
     "text": [
      "https://www.facebook.com/groups/326867917372019/\n",
      "Warrior-Eli-Hoax/Images/Img_26.jpg\n"
     ]
    },
    {
     "name": "stderr",
     "output_type": "stream",
     "text": [
      " 27%|█████████████████████▍                                                           | 44/166 [00:25<00:48,  2.51it/s]"
     ]
    },
    {
     "name": "stdout",
     "output_type": "stream",
     "text": [
      "http://www.warriorelihoax.com/author/warriorelihoax/\n",
      "Warrior-Eli-Hoax/Images/Img_27.jpg\n"
     ]
    },
    {
     "name": "stderr",
     "output_type": "stream",
     "text": [
      " 27%|█████████████████████▉                                                           | 45/166 [00:25<00:47,  2.55it/s]"
     ]
    },
    {
     "name": "stdout",
     "output_type": "stream",
     "text": [
      "http://www.warriorelihoax.com/2013/01/10/emily-dirr-and-warrior-eli/\n",
      "Warrior-Eli-Hoax/Images/Img_28.jpg\n"
     ]
    },
    {
     "name": "stderr",
     "output_type": "stream",
     "text": [
      " 28%|██████████████████████▍                                                          | 46/166 [00:26<00:53,  2.25it/s]"
     ]
    },
    {
     "name": "stdout",
     "output_type": "stream",
     "text": [
      "http://www.warriorelihoax.com/category/emily-dirr/\n",
      "Warrior-Eli-Hoax/Images/Img_29.jpg\n"
     ]
    },
    {
     "name": "stderr",
     "output_type": "stream",
     "text": [
      " 28%|██████████████████████▉                                                          | 47/166 [00:26<00:54,  2.19it/s]"
     ]
    },
    {
     "name": "stdout",
     "output_type": "stream",
     "text": [
      "http://www.warriorelihoax.com/category/warrior-eli-hoax/\n",
      "Warrior-Eli-Hoax/Images/Img_30.jpg\n"
     ]
    },
    {
     "name": "stderr",
     "output_type": "stream",
     "text": [
      " 29%|███████████████████████▍                                                         | 48/166 [00:27<00:54,  2.17it/s]"
     ]
    },
    {
     "name": "stdout",
     "output_type": "stream",
     "text": [
      "http://www.warriorelihoax.com/2013/01/10/emily-dirr-and-warrior-eli/#comments\n",
      "Warrior-Eli-Hoax/Images/Img_31.jpg\n"
     ]
    },
    {
     "name": "stderr",
     "output_type": "stream",
     "text": [
      " 30%|███████████████████████▉                                                         | 49/166 [00:27<00:58,  1.99it/s]"
     ]
    },
    {
     "name": "stdout",
     "output_type": "stream",
     "text": [
      "http://www.warriorelihoax.com/2012/07/05/why-did-dana-dirr-have-to-die/\n",
      "Warrior-Eli-Hoax/Images/Img_32.jpg\n"
     ]
    },
    {
     "name": "stderr",
     "output_type": "stream",
     "text": [
      " 30%|████████████████████████▍                                                        | 50/166 [00:28<00:56,  2.04it/s]"
     ]
    },
    {
     "name": "stdout",
     "output_type": "stream",
     "text": [
      "http://0370f4a.netsolhost.com/wordpress2/wp-content/uploads/2012/07/534930_10151206392954505_1217027889_n.jpg\n",
      "Warrior-Eli-Hoax/Images/Img_33.jpg\n"
     ]
    },
    {
     "name": "stderr",
     "output_type": "stream",
     "text": [
      " 31%|████████████████████████▉                                                        | 51/166 [00:28<00:47,  2.42it/s]"
     ]
    },
    {
     "name": "stdout",
     "output_type": "stream",
     "text": [
      "http://0370f4a.netsolhost.com/wordpress2/wp-content/uploads/2012/07/599693_10151206424964505_1820125879_n1.jpg\n",
      "Warrior-Eli-Hoax/Images/Img_34.jpg\n"
     ]
    },
    {
     "name": "stderr",
     "output_type": "stream",
     "text": [
      " 31%|█████████████████████████▎                                                       | 52/166 [00:29<00:48,  2.37it/s]"
     ]
    },
    {
     "name": "stdout",
     "output_type": "stream",
     "text": [
      "http://warriorelihoax.wordpress.com/2012/05/14/xanga-summary/\n",
      "Warrior-Eli-Hoax/Images/Img_35.jpg\n"
     ]
    },
    {
     "name": "stderr",
     "output_type": "stream",
     "text": [
      " 32%|█████████████████████████▊                                                       | 53/166 [00:29<00:46,  2.45it/s]"
     ]
    },
    {
     "name": "stdout",
     "output_type": "stream",
     "text": [
      "http://www.flickr.com/people/julia_kde/\n",
      "Warrior-Eli-Hoax/Images/Img_35.jpg\n"
     ]
    },
    {
     "name": "stderr",
     "output_type": "stream",
     "text": [
      " 33%|██████████████████████████▎                                                      | 54/166 [00:30<01:04,  1.73it/s]"
     ]
    },
    {
     "name": "stdout",
     "output_type": "stream",
     "text": [
      "http://0370f4a.netsolhost.com/wordpress2/wp-content/uploads/2012/07/fullscreen-capture-752012-112839-pm1.jpg\n",
      "Warrior-Eli-Hoax/Images/Img_36.jpg\n"
     ]
    },
    {
     "name": "stderr",
     "output_type": "stream",
     "text": [
      " 33%|██████████████████████████▊                                                      | 55/166 [00:31<01:06,  1.66it/s]"
     ]
    },
    {
     "name": "stdout",
     "output_type": "stream",
     "text": [
      "http://warriorelihoax.wordpress.com/2012/05/14/js-dirr-truck-accident-2/\n",
      "Warrior-Eli-Hoax/Images/Img_37.jpg\n"
     ]
    },
    {
     "name": "stderr",
     "output_type": "stream",
     "text": [
      " 34%|███████████████████████████▎                                                     | 56/166 [00:31<00:59,  1.86it/s]"
     ]
    },
    {
     "name": "stdout",
     "output_type": "stream",
     "text": [
      "http://0370f4a.netsolhost.com/wordpress2/wp-content/uploads/2012/07/wall-photos-google-chrome-5142012-14054-am1.jpg\n",
      "Warrior-Eli-Hoax/Images/Img_37.jpg\n"
     ]
    },
    {
     "name": "stderr",
     "output_type": "stream",
     "text": [
      " 34%|███████████████████████████▊                                                     | 57/166 [00:31<00:52,  2.09it/s]"
     ]
    },
    {
     "name": "stdout",
     "output_type": "stream",
     "text": [
      "http://www.flickr.com/photos/angelamarybutler/3727154888/\n",
      "Warrior-Eli-Hoax/Images/Img_38.jpg\n"
     ]
    },
    {
     "name": "stderr",
     "output_type": "stream",
     "text": [
      " 35%|████████████████████████████▎                                                    | 58/166 [00:32<01:05,  1.65it/s]"
     ]
    },
    {
     "name": "stdout",
     "output_type": "stream",
     "text": [
      "http://www.flickr.com/photos/becstarr/7050260367/\n",
      "Warrior-Eli-Hoax/Images/Img_39.jpg\n"
     ]
    },
    {
     "name": "stderr",
     "output_type": "stream",
     "text": [
      " 36%|████████████████████████████▊                                                    | 59/166 [00:33<01:13,  1.46it/s]"
     ]
    },
    {
     "name": "stdout",
     "output_type": "stream",
     "text": [
      "http://www.flickr.com/photos/odelay79/323221453/\n",
      "Warrior-Eli-Hoax/Images/Img_40.jpg\n"
     ]
    },
    {
     "name": "stderr",
     "output_type": "stream",
     "text": [
      " 36%|█████████████████████████████▎                                                   | 60/166 [00:34<01:07,  1.57it/s]"
     ]
    },
    {
     "name": "stdout",
     "output_type": "stream",
     "text": [
      "http://www.warriorelihoax.com/author/warriorelihoax/\n",
      "Warrior-Eli-Hoax/Images/Img_41.jpg\n"
     ]
    },
    {
     "name": "stderr",
     "output_type": "stream",
     "text": [
      " 37%|█████████████████████████████▊                                                   | 61/166 [00:34<00:58,  1.80it/s]"
     ]
    },
    {
     "name": "stdout",
     "output_type": "stream",
     "text": [
      "http://www.warriorelihoax.com/2012/07/05/why-did-dana-dirr-have-to-die/\n",
      "Warrior-Eli-Hoax/Images/Img_42.jpg\n"
     ]
    },
    {
     "name": "stderr",
     "output_type": "stream",
     "text": [
      " 37%|██████████████████████████████▎                                                  | 62/166 [00:34<00:55,  1.88it/s]"
     ]
    },
    {
     "name": "stdout",
     "output_type": "stream",
     "text": [
      "http://www.warriorelihoax.com/category/emily-dirr/\n",
      "Warrior-Eli-Hoax/Images/Img_43.jpg\n"
     ]
    },
    {
     "name": "stderr",
     "output_type": "stream",
     "text": [
      " 38%|██████████████████████████████▋                                                  | 63/166 [00:35<00:52,  1.95it/s]"
     ]
    },
    {
     "name": "stdout",
     "output_type": "stream",
     "text": [
      "http://www.warriorelihoax.com/category/warrior-eli-hoax/\n",
      "Warrior-Eli-Hoax/Images/Img_44.jpg\n"
     ]
    },
    {
     "name": "stderr",
     "output_type": "stream",
     "text": [
      " 39%|███████████████████████████████▏                                                 | 64/166 [00:35<00:51,  1.99it/s]"
     ]
    },
    {
     "name": "stdout",
     "output_type": "stream",
     "text": [
      "http://www.warriorelihoax.com/2012/07/05/why-did-dana-dirr-have-to-die/#comments\n",
      "Warrior-Eli-Hoax/Images/Img_45.jpg\n"
     ]
    },
    {
     "name": "stderr",
     "output_type": "stream",
     "text": [
      " 39%|███████████████████████████████▋                                                 | 65/166 [00:36<00:56,  1.80it/s]"
     ]
    },
    {
     "name": "stdout",
     "output_type": "stream",
     "text": [
      "http://www.warriorelihoax.com/2012/06/29/the-friends-and-family-of-js-dirr/\n",
      "Warrior-Eli-Hoax/Images/Img_46.jpg\n"
     ]
    },
    {
     "name": "stderr",
     "output_type": "stream",
     "text": [
      " 40%|████████████████████████████████▏                                                | 66/166 [00:37<00:56,  1.79it/s]"
     ]
    },
    {
     "name": "stdout",
     "output_type": "stream",
     "text": [
      "http://0370f4a.netsolhost.com/wordpress2/wp-content/uploads/2012/06/mitchy1.jpg\n",
      "Warrior-Eli-Hoax/Images/Img_47.jpg\n"
     ]
    },
    {
     "name": "stderr",
     "output_type": "stream",
     "text": [
      " 40%|████████████████████████████████▋                                                | 67/166 [00:37<00:48,  2.02it/s]"
     ]
    },
    {
     "name": "stdout",
     "output_type": "stream",
     "text": [
      "http://0370f4a.netsolhost.com/wordpress2/wp-content/uploads/2012/06/mitchy3.jpg\n",
      "Warrior-Eli-Hoax/Images/Img_48.jpg\n"
     ]
    },
    {
     "name": "stderr",
     "output_type": "stream",
     "text": [
      " 41%|█████████████████████████████████▏                                               | 68/166 [00:37<00:47,  2.08it/s]"
     ]
    },
    {
     "name": "stdout",
     "output_type": "stream",
     "text": [
      "http://0370f4a.netsolhost.com/wordpress2/wp-content/uploads/2012/06/mitchy4.jpg\n",
      "Warrior-Eli-Hoax/Images/Img_49.jpg\n"
     ]
    },
    {
     "name": "stderr",
     "output_type": "stream",
     "text": [
      " 42%|█████████████████████████████████▋                                               | 69/166 [00:38<00:42,  2.28it/s]"
     ]
    },
    {
     "name": "stdout",
     "output_type": "stream",
     "text": [
      "http://0370f4a.netsolhost.com/wordpress2/wp-content/uploads/2012/06/mitchy6.jpg\n",
      "Warrior-Eli-Hoax/Images/Img_50.jpg\n"
     ]
    },
    {
     "name": "stderr",
     "output_type": "stream",
     "text": [
      " 42%|██████████████████████████████████▏                                              | 70/166 [00:38<00:42,  2.26it/s]"
     ]
    },
    {
     "name": "stdout",
     "output_type": "stream",
     "text": [
      "http://0370f4a.netsolhost.com/wordpress2/wp-content/uploads/2012/06/mitchy11.jpg\n",
      "Warrior-Eli-Hoax/Images/Img_51.jpg\n"
     ]
    },
    {
     "name": "stderr",
     "output_type": "stream",
     "text": [
      " 43%|██████████████████████████████████▋                                              | 71/166 [00:39<00:42,  2.23it/s]"
     ]
    },
    {
     "name": "stdout",
     "output_type": "stream",
     "text": [
      "http://0370f4a.netsolhost.com/wordpress2/wp-content/uploads/2012/06/mitchy17.jpg\n",
      "Warrior-Eli-Hoax/Images/Img_52.jpg\n"
     ]
    },
    {
     "name": "stderr",
     "output_type": "stream",
     "text": [
      " 43%|███████████████████████████████████▏                                             | 72/166 [00:39<00:41,  2.25it/s]"
     ]
    },
    {
     "name": "stdout",
     "output_type": "stream",
     "text": [
      "http://gawker.com/5914621/the-long-fake-life-of-js-dirr-a-decade+long-internet-cancer-hoax-unravels\n",
      "Warrior-Eli-Hoax/Images/Img_53.jpg\n"
     ]
    },
    {
     "name": "stderr",
     "output_type": "stream",
     "text": [
      " 44%|███████████████████████████████████▌                                             | 73/166 [00:39<00:33,  2.79it/s]"
     ]
    },
    {
     "name": "stdout",
     "output_type": "stream",
     "text": [
      "http://0370f4a.netsolhost.com/wordpress2/wp-content/uploads/2012/06/untitled.jpg\n",
      "Warrior-Eli-Hoax/Images/Img_53.jpg\n"
     ]
    },
    {
     "name": "stderr",
     "output_type": "stream",
     "text": [
      " 45%|████████████████████████████████████                                             | 74/166 [00:40<00:35,  2.62it/s]"
     ]
    },
    {
     "name": "stdout",
     "output_type": "stream",
     "text": [
      "http://www.stbaldricks.org/participants/donorlist/518331/2012/\n",
      "Warrior-Eli-Hoax/Images/Img_54.jpg\n"
     ]
    },
    {
     "name": "stderr",
     "output_type": "stream",
     "text": [
      " 45%|████████████████████████████████████▌                                            | 75/166 [00:40<00:43,  2.09it/s]"
     ]
    },
    {
     "name": "stdout",
     "output_type": "stream",
     "text": [
      "http://www.youtube.com/user/UsAnd8\n",
      "Warrior-Eli-Hoax/Images/Img_54.jpg\n"
     ]
    },
    {
     "name": "stderr",
     "output_type": "stream",
     "text": [
      " 46%|█████████████████████████████████████                                            | 76/166 [00:41<00:44,  2.03it/s]"
     ]
    },
    {
     "name": "stdout",
     "output_type": "stream",
     "text": [
      "https://plus.google.com/photos/110644623131027070905/albums/5760963550158824241\n",
      "Warrior-Eli-Hoax/Images/Img_55.jpg\n"
     ]
    },
    {
     "name": "stderr",
     "output_type": "stream",
     "text": [
      " 46%|█████████████████████████████████████▌                                           | 77/166 [00:41<00:39,  2.23it/s]"
     ]
    },
    {
     "name": "stdout",
     "output_type": "stream",
     "text": [
      "https://www.facebook.com/help/?faq=224562897555674\n",
      "Warrior-Eli-Hoax/Images/Img_56.jpg\n"
     ]
    },
    {
     "name": "stderr",
     "output_type": "stream",
     "text": [
      " 47%|██████████████████████████████████████                                           | 78/166 [00:42<00:46,  1.89it/s]"
     ]
    },
    {
     "name": "stdout",
     "output_type": "stream",
     "text": [
      "https://plus.google.com/photos/110644623131027070905/albums/5760945577163439617\n",
      "Warrior-Eli-Hoax/Images/Img_57.jpg\n"
     ]
    },
    {
     "name": "stderr",
     "output_type": "stream",
     "text": [
      " 48%|██████████████████████████████████████▌                                          | 79/166 [00:42<00:40,  2.13it/s]"
     ]
    },
    {
     "name": "stdout",
     "output_type": "stream",
     "text": [
      "https://plus.google.com/photos/110644623131027070905/albums/5760944917998554113\n",
      "Warrior-Eli-Hoax/Images/Img_58.jpg\n"
     ]
    },
    {
     "name": "stderr",
     "output_type": "stream",
     "text": [
      " 48%|███████████████████████████████████████                                          | 80/166 [00:43<00:36,  2.35it/s]"
     ]
    },
    {
     "name": "stdout",
     "output_type": "stream",
     "text": [
      "https://plus.google.com/photos/110644623131027070905/albums/5760946145720154705\n",
      "Warrior-Eli-Hoax/Images/Img_59.jpg\n"
     ]
    },
    {
     "name": "stderr",
     "output_type": "stream",
     "text": [
      " 49%|███████████████████████████████████████▌                                         | 81/166 [00:43<00:34,  2.46it/s]"
     ]
    },
    {
     "name": "stdout",
     "output_type": "stream",
     "text": [
      "https://plus.google.com/photos/110644623131027070905/albums/5760946145720154705\n",
      "Warrior-Eli-Hoax/Images/Img_60.jpg\n"
     ]
    },
    {
     "name": "stderr",
     "output_type": "stream",
     "text": [
      " 49%|████████████████████████████████████████                                         | 82/166 [00:43<00:31,  2.63it/s]"
     ]
    },
    {
     "name": "stdout",
     "output_type": "stream",
     "text": [
      "https://lh3.googleusercontent.com/-skIbn1tQTFQ/T-3zPPqo-QI/AAAAAAAAE8A/l6BFFicuGNY/s1105/Kim+Sutton+-+Google+Chrome+5142012+43434+AM.jpg\n",
      "Warrior-Eli-Hoax/Images/Img_61.jpg\n"
     ]
    },
    {
     "name": "stderr",
     "output_type": "stream",
     "text": [
      " 50%|████████████████████████████████████████▌                                        | 83/166 [00:43<00:25,  3.26it/s]"
     ]
    },
    {
     "name": "stdout",
     "output_type": "stream",
     "text": [
      "https://lh3.googleusercontent.com/--d90GDsJa9U/T-3zWkVmFWI/AAAAAAAAE8M/ZOhuP-2s1XQ/s1105/Wayne+Houston+-+Google+Chrome+5142012+43442+AM.jpg\n",
      "Warrior-Eli-Hoax/Images/Img_62.jpg\n"
     ]
    },
    {
     "name": "stderr",
     "output_type": "stream",
     "text": [
      " 51%|████████████████████████████████████████▉                                        | 84/166 [00:44<00:20,  3.94it/s]"
     ]
    },
    {
     "name": "stdout",
     "output_type": "stream",
     "text": [
      "https://lh4.googleusercontent.com/-uoDtjzgK3tE/T-30IwEJSFI/AAAAAAAAE8k/wwIA1HIwJVo/s1137/Marc+LeBeau+-+Google+Chrome+5142012+43731+AM.jpg\n",
      "Warrior-Eli-Hoax/Images/Img_63.jpg\n"
     ]
    },
    {
     "name": "stderr",
     "output_type": "stream",
     "text": [
      " 51%|█████████████████████████████████████████▍                                       | 85/166 [00:44<00:17,  4.52it/s]"
     ]
    },
    {
     "name": "stdout",
     "output_type": "stream",
     "text": [
      "https://lh6.googleusercontent.com/-19AxZlBLDGQ/T-30McBvvJI/AAAAAAAAE8s/gmcJR3JFlq8/s1009/Brittany+Morton+-+Google+Chrome+5142012+43850+AM.jpg\n",
      "Warrior-Eli-Hoax/Images/Img_64.jpg\n"
     ]
    },
    {
     "name": "stderr",
     "output_type": "stream",
     "text": [
      " 52%|█████████████████████████████████████████▉                                       | 86/166 [00:44<00:15,  5.05it/s]"
     ]
    },
    {
     "name": "stdout",
     "output_type": "stream",
     "text": [
      "https://lh4.googleusercontent.com/-rfPZJmVTEk4/T-30OcEy6UI/AAAAAAAAE80/dIsrSZGHuXg/s1156/Adam+Spain+-+Google+Chrome+5142012+44005+AM.jpg\n",
      "Warrior-Eli-Hoax/Images/Img_65.jpg\n"
     ]
    },
    {
     "name": "stderr",
     "output_type": "stream",
     "text": [
      " 52%|██████████████████████████████████████████▍                                      | 87/166 [00:44<00:14,  5.64it/s]"
     ]
    },
    {
     "name": "stdout",
     "output_type": "stream",
     "text": [
      "https://lh3.googleusercontent.com/-TWoq6QlvPZ0/T-30o5QLbAI/AAAAAAAAE88/2fIhddO1UF8/s1077/Alex+Spain+-+Google+Chrome+5142012+44015+AM.jpg\n",
      "Warrior-Eli-Hoax/Images/Img_66.jpg\n"
     ]
    },
    {
     "name": "stderr",
     "output_type": "stream",
     "text": [
      " 53%|██████████████████████████████████████████▉                                      | 88/166 [00:44<00:12,  6.17it/s]"
     ]
    },
    {
     "name": "stdout",
     "output_type": "stream",
     "text": [
      "https://lh6.googleusercontent.com/-8bwfdDwiF2E/T-30ruf3VlI/AAAAAAAAE9E/Ho4_gAZ1UBM/s1091/Benita+Miller+-+Google+Chrome+5142012+44046+AM.jpg\n",
      "Warrior-Eli-Hoax/Images/Img_67.jpg\n"
     ]
    },
    {
     "name": "stderr",
     "output_type": "stream",
     "text": [
      " 54%|███████████████████████████████████████████▍                                     | 89/166 [00:44<00:11,  6.76it/s]"
     ]
    },
    {
     "name": "stdout",
     "output_type": "stream",
     "text": [
      "https://lh3.googleusercontent.com/-nQ3arb0010Q/T-30tduhbSI/AAAAAAAAE9M/4h_pIUMJc2g/s1093/Mitchy+Aaron+-+Google+Chrome+5142012+44112+AM.jpg\n",
      "Warrior-Eli-Hoax/Images/Img_68.jpg\n"
     ]
    },
    {
     "name": "stderr",
     "output_type": "stream",
     "text": [
      " 54%|███████████████████████████████████████████▉                                     | 90/166 [00:44<00:10,  7.07it/s]"
     ]
    },
    {
     "name": "stdout",
     "output_type": "stream",
     "text": [
      "https://lh4.googleusercontent.com/-uD_eXo-P9qQ/T-30u_2gtDI/AAAAAAAAE9U/R9yVimvbyso/s1079/Shane+Pellizer+-+Google+Chrome+5142012+44147+AM.jpg\n",
      "Warrior-Eli-Hoax/Images/Img_69.jpg\n"
     ]
    },
    {
     "name": "stderr",
     "output_type": "stream",
     "text": [
      " 55%|████████████████████████████████████████████▍                                    | 91/166 [00:44<00:10,  7.38it/s]"
     ]
    },
    {
     "name": "stdout",
     "output_type": "stream",
     "text": [
      "https://lh5.googleusercontent.com/-EXM1e5TjB-o/T-30wx7it2I/AAAAAAAAE9c/QFxkAo8O67E/s1139/Ben+Palmer+-+Google+Chrome+5142012+44210+AM.jpg\n",
      "Warrior-Eli-Hoax/Images/Img_70.jpg\n"
     ]
    },
    {
     "name": "stderr",
     "output_type": "stream",
     "text": [
      " 55%|████████████████████████████████████████████▉                                    | 92/166 [00:45<00:09,  7.51it/s]"
     ]
    },
    {
     "name": "stdout",
     "output_type": "stream",
     "text": [
      "https://lh5.googleusercontent.com/-tARKmr1EW-o/T-30yQvZjuI/AAAAAAAAE9k/b9BTQ7pCvjo/s1057/Todd+White+-+Google+Chrome+5142012+44253+AM.jpg\n",
      "Warrior-Eli-Hoax/Images/Img_71.jpg\n"
     ]
    },
    {
     "name": "stderr",
     "output_type": "stream",
     "text": [
      " 56%|█████████████████████████████████████████████▍                                   | 93/166 [00:45<00:09,  7.61it/s]"
     ]
    },
    {
     "name": "stdout",
     "output_type": "stream",
     "text": [
      "https://lh5.googleusercontent.com/-x_3O9UdM0Ow/T-30zUfyKfI/AAAAAAAAE9s/J0A33cTJInw/s1065/Rob+Birclay+-+Google+Chrome+5142012+44357+AM.jpg\n",
      "Warrior-Eli-Hoax/Images/Img_72.jpg\n"
     ]
    },
    {
     "name": "stderr",
     "output_type": "stream",
     "text": [
      " 57%|█████████████████████████████████████████████▊                                   | 94/166 [00:45<00:09,  7.54it/s]"
     ]
    },
    {
     "name": "stdout",
     "output_type": "stream",
     "text": [
      "https://lh3.googleusercontent.com/-XZLBUNfQBnI/T-4AaSyNjpI/AAAAAAAAFFo/HY6dzuGBHcY/s710/294975_10150816963436497_509145357_n.jpg\n",
      "Warrior-Eli-Hoax/Images/Img_73.jpg\n"
     ]
    },
    {
     "name": "stderr",
     "output_type": "stream",
     "text": [
      " 57%|██████████████████████████████████████████████▎                                  | 95/166 [00:45<00:12,  5.50it/s]"
     ]
    },
    {
     "name": "stdout",
     "output_type": "stream",
     "text": [
      "https://lh6.googleusercontent.com/-DZq6P0lsu3k/T-4AZMcCyyI/AAAAAAAAFFY/fGTEeML2WII/s704/576906_10150816960891497_672740986_n.jpg\n",
      "Warrior-Eli-Hoax/Images/Img_73.jpg\n"
     ]
    },
    {
     "name": "stderr",
     "output_type": "stream",
     "text": [
      " 58%|██████████████████████████████████████████████▊                                  | 96/166 [00:45<00:14,  4.86it/s]"
     ]
    },
    {
     "name": "stdout",
     "output_type": "stream",
     "text": [
      "https://lh3.googleusercontent.com/-Cql9tJJmYWU/T-4AZikU3QI/AAAAAAAAFFg/etAlBkrHWKY/s736/546293_10150816961146497_848375616_n.jpg\n",
      "Warrior-Eli-Hoax/Images/Img_73.jpg\n"
     ]
    },
    {
     "name": "stderr",
     "output_type": "stream",
     "text": [
      " 58%|███████████████████████████████████████████████▎                                 | 97/166 [00:46<00:15,  4.49it/s]"
     ]
    },
    {
     "name": "stdout",
     "output_type": "stream",
     "text": [
      "https://lh5.googleusercontent.com/-KirpXP0uy2A/T-300mdYxwI/AAAAAAAAE90/M1PZcN19Yps/s1042/Doug+Clark+-+Google+Chrome+5142012+44428+AM.jpg\n",
      "Warrior-Eli-Hoax/Images/Img_73.jpg\n"
     ]
    },
    {
     "name": "stderr",
     "output_type": "stream",
     "text": [
      " 59%|███████████████████████████████████████████████▊                                 | 98/166 [00:46<00:13,  5.13it/s]"
     ]
    },
    {
     "name": "stdout",
     "output_type": "stream",
     "text": [
      "https://lh4.googleusercontent.com/-HFUUZJd-g68/T-302UFRL8I/AAAAAAAAE98/H_LF67btTUU/s1067/Grace+Benedatto+-+Google+Chrome+5142012+44527+AM.jpg\n",
      "Warrior-Eli-Hoax/Images/Img_74.jpg\n"
     ]
    },
    {
     "name": "stderr",
     "output_type": "stream",
     "text": [
      " 60%|████████████████████████████████████████████████▎                                | 99/166 [00:46<00:11,  5.71it/s]"
     ]
    },
    {
     "name": "stdout",
     "output_type": "stream",
     "text": [
      "https://lh4.googleusercontent.com/-Nd2i4mIm4Cc/T-309Ieu3fI/AAAAAAAAE-E/jcX8MBkLZL8/s1045/Joshua+Dirr+-+Google+Chrome+5142012+44601+AM.jpg\n",
      "Warrior-Eli-Hoax/Images/Img_75.jpg\n"
     ]
    },
    {
     "name": "stderr",
     "output_type": "stream",
     "text": [
      " 60%|████████████████████████████████████████████████▏                               | 100/166 [00:46<00:10,  6.31it/s]"
     ]
    },
    {
     "name": "stdout",
     "output_type": "stream",
     "text": [
      "https://lh5.googleusercontent.com/-7Rs0RqCqq9o/T-31x6qRUbI/AAAAAAAAE-M/IHDcywP1Cw0/s1011/Ashleigh+Miller+-+Google+Chrome+5142012+44629+AM.jpg\n",
      "Warrior-Eli-Hoax/Images/Img_76.jpg\n"
     ]
    },
    {
     "name": "stderr",
     "output_type": "stream",
     "text": [
      " 61%|████████████████████████████████████████████████▋                               | 101/166 [00:46<00:09,  6.84it/s]"
     ]
    },
    {
     "name": "stdout",
     "output_type": "stream",
     "text": [
      "https://lh3.googleusercontent.com/-E7u7nZhdBiM/T-31y_0f3yI/AAAAAAAAE-U/fUIILvBgDeI/s1077/Sid+Baker+-+Google+Chrome+5142012+44727+AM.jpg\n",
      "Warrior-Eli-Hoax/Images/Img_77.jpg\n"
     ]
    },
    {
     "name": "stderr",
     "output_type": "stream",
     "text": [
      " 61%|█████████████████████████████████████████████████▏                              | 102/166 [00:46<00:08,  7.17it/s]"
     ]
    },
    {
     "name": "stdout",
     "output_type": "stream",
     "text": [
      "https://lh3.googleusercontent.com/-aFnfI2GPDjw/T-3146dF2EI/AAAAAAAAE-c/9GB4qRBidmI/s1127/Wade+Ralleigh+-+Google+Chrome+5142012+44756+AM.jpg\n",
      "Warrior-Eli-Hoax/Images/Img_78.jpg\n"
     ]
    },
    {
     "name": "stderr",
     "output_type": "stream",
     "text": [
      " 62%|█████████████████████████████████████████████████▋                              | 103/166 [00:46<00:08,  7.51it/s]"
     ]
    },
    {
     "name": "stdout",
     "output_type": "stream",
     "text": [
      "https://lh3.googleusercontent.com/-VSdnmT-qPjM/T-316rkdmrI/AAAAAAAAE-k/bq1iG0MxrhI/s1047/Dierks+Cody+-+Google+Chrome+5142012+44828+AM.jpg\n",
      "Warrior-Eli-Hoax/Images/Img_79.jpg\n"
     ]
    },
    {
     "name": "stderr",
     "output_type": "stream",
     "text": [
      " 63%|██████████████████████████████████████████████████                              | 104/166 [00:47<00:08,  7.72it/s]"
     ]
    },
    {
     "name": "stdout",
     "output_type": "stream",
     "text": [
      "https://www.facebook.com/lynn.aaron.12?sk=wall\n",
      "Warrior-Eli-Hoax/Images/Img_80.jpg\n"
     ]
    },
    {
     "name": "stderr",
     "output_type": "stream",
     "text": [
      " 63%|██████████████████████████████████████████████████▌                             | 105/166 [00:47<00:10,  5.73it/s]"
     ]
    },
    {
     "name": "stdout",
     "output_type": "stream",
     "text": [
      "https://lh3.googleusercontent.com/-xI7fmUyaqZA/T_L-7lzGgrI/AAAAAAAAFLk/RBigfxKposw/s598/Fullscreen+capture+732012+91601+AM.jpg\n",
      "Warrior-Eli-Hoax/Images/Img_81.jpg\n"
     ]
    },
    {
     "name": "stderr",
     "output_type": "stream",
     "text": [
      " 64%|███████████████████████████████████████████████████                             | 106/166 [00:47<00:09,  6.47it/s]"
     ]
    },
    {
     "name": "stdout",
     "output_type": "stream",
     "text": [
      "https://lh5.googleusercontent.com/-xI7fmUyaqZA/T_L-7lzGgrI/AAAAAAAAFLs/dRDRgJ1Wvmo/s549/Fullscreen+capture+732012+91601+AM.jpg\n",
      "Warrior-Eli-Hoax/Images/Img_82.jpg\n"
     ]
    },
    {
     "name": "stderr",
     "output_type": "stream",
     "text": [
      " 64%|███████████████████████████████████████████████████▌                            | 107/166 [00:47<00:08,  6.98it/s]"
     ]
    },
    {
     "name": "stdout",
     "output_type": "stream",
     "text": [
      "https://lh5.googleusercontent.com/-xI7fmUyaqZA/T_L-7lzGgrI/AAAAAAAAFLs/dRDRgJ1Wvmo/s549/Fullscreen+capture+732012+91601+AM.jpg\n",
      "Warrior-Eli-Hoax/Images/Img_83.jpg\n"
     ]
    },
    {
     "name": "stderr",
     "output_type": "stream",
     "text": [
      " 65%|████████████████████████████████████████████████████                            | 108/166 [00:47<00:07,  7.37it/s]"
     ]
    },
    {
     "name": "stdout",
     "output_type": "stream",
     "text": [
      "https://lh3.googleusercontent.com/-xI7fmUyaqZA/T_L-7lzGgrI/AAAAAAAAFLk/RBigfxKposw/s598/Fullscreen+capture+732012+91601+AM.jpg\n",
      "Warrior-Eli-Hoax/Images/Img_84.jpg\n"
     ]
    },
    {
     "name": "stderr",
     "output_type": "stream",
     "text": [
      " 66%|████████████████████████████████████████████████████▌                           | 109/166 [00:47<00:07,  7.62it/s]"
     ]
    },
    {
     "name": "stdout",
     "output_type": "stream",
     "text": [
      "https://lh5.googleusercontent.com/-w9mFs8L103Y/T-32DjVnPpI/AAAAAAAAE-s/Ke3ziff_uVA/s800/Ex-Girlfriends+of+JS+-+Google+Chrome+5162012+75241+AM.jpg\n",
      "Warrior-Eli-Hoax/Images/Img_85.jpg\n"
     ]
    },
    {
     "name": "stderr",
     "output_type": "stream",
     "text": [
      " 66%|█████████████████████████████████████████████████████                           | 110/166 [00:47<00:07,  7.26it/s]"
     ]
    },
    {
     "name": "stdout",
     "output_type": "stream",
     "text": [
      "https://www.facebook.com/groups/326867917372019/\n",
      "Warrior-Eli-Hoax/Images/Img_86.jpg\n"
     ]
    },
    {
     "name": "stderr",
     "output_type": "stream",
     "text": [
      " 67%|█████████████████████████████████████████████████████▍                          | 111/166 [00:48<00:09,  5.52it/s]"
     ]
    },
    {
     "name": "stdout",
     "output_type": "stream",
     "text": [
      "https://lh4.googleusercontent.com/-1GQLq4BogDU/T-32GDRSp5I/AAAAAAAAE-0/sTArMGlw2yA/s688/Alyssa+Shaw+-+Google+Chrome+5162012+75342+AM.jpg\n",
      "Warrior-Eli-Hoax/Images/Img_87.jpg\n"
     ]
    },
    {
     "name": "stderr",
     "output_type": "stream",
     "text": [
      " 67%|█████████████████████████████████████████████████████▉                          | 112/166 [00:48<00:08,  6.17it/s]"
     ]
    },
    {
     "name": "stdout",
     "output_type": "stream",
     "text": [
      "https://lh5.googleusercontent.com/-8IEhfvlfA-c/T-32QM43B1I/AAAAAAAAE_U/RhbpH0PNZF4/s1223/Fullscreen+capture+612012+93405+PM.jpg\n",
      "Warrior-Eli-Hoax/Images/Img_88.jpg\n"
     ]
    },
    {
     "name": "stderr",
     "output_type": "stream",
     "text": [
      " 68%|██████████████████████████████████████████████████████▍                         | 113/166 [00:48<00:08,  6.52it/s]"
     ]
    },
    {
     "name": "stdout",
     "output_type": "stream",
     "text": [
      "https://lh4.googleusercontent.com/-e62UB54EAI4/T-32R7YlRaI/AAAAAAAAE_c/6rwNsj8mZtw/s1203/Fullscreen+capture+612012+93408+PM.jpg\n",
      "Warrior-Eli-Hoax/Images/Img_89.jpg\n"
     ]
    },
    {
     "name": "stderr",
     "output_type": "stream",
     "text": [
      " 69%|██████████████████████████████████████████████████████▉                         | 114/166 [00:48<00:11,  4.58it/s]"
     ]
    },
    {
     "name": "stdout",
     "output_type": "stream",
     "text": [
      "https://lh3.googleusercontent.com/-9mzfa8rhibo/T-32Sl2QvXI/AAAAAAAAE_k/CrWHE2hk-oQ/s1222/Fullscreen+capture+612012+93412+PM.jpg\n",
      "Warrior-Eli-Hoax/Images/Img_90.jpg\n"
     ]
    },
    {
     "name": "stderr",
     "output_type": "stream",
     "text": [
      " 69%|███████████████████████████████████████████████████████▍                        | 115/166 [00:49<00:14,  3.63it/s]"
     ]
    },
    {
     "name": "stdout",
     "output_type": "stream",
     "text": [
      "https://lh3.googleusercontent.com/-Z3cAV--6_00/T-32TXUUHVI/AAAAAAAAE_s/teZKIa2IEMM/s1223/Fullscreen+capture+612012+93414+PM.jpg\n",
      "Warrior-Eli-Hoax/Images/Img_91.jpg\n"
     ]
    },
    {
     "name": "stderr",
     "output_type": "stream",
     "text": [
      " 70%|███████████████████████████████████████████████████████▉                        | 116/166 [00:49<00:16,  3.01it/s]"
     ]
    },
    {
     "name": "stdout",
     "output_type": "stream",
     "text": [
      "https://lh5.googleusercontent.com/-cxm_JolLqUU/T-32UeMFiMI/AAAAAAAAE_0/u3FegIDCxV0/s1222/Fullscreen+capture+612012+93419+PM.jpg\n",
      "Warrior-Eli-Hoax/Images/Img_92.jpg\n"
     ]
    },
    {
     "name": "stderr",
     "output_type": "stream",
     "text": [
      " 70%|████████████████████████████████████████████████████████▍                       | 117/166 [00:50<00:18,  2.71it/s]"
     ]
    },
    {
     "name": "stdout",
     "output_type": "stream",
     "text": [
      "https://lh4.googleusercontent.com/-j0DqA6BRfKQ/T-32WdvBucI/AAAAAAAAE_8/-oMleWRnm8Q/s1223/Fullscreen+capture+612012+93453+PM.jpg\n",
      "Warrior-Eli-Hoax/Images/Img_93.jpg\n"
     ]
    },
    {
     "name": "stderr",
     "output_type": "stream",
     "text": [
      " 71%|████████████████████████████████████████████████████████▊                       | 118/166 [00:50<00:18,  2.66it/s]"
     ]
    },
    {
     "name": "stdout",
     "output_type": "stream",
     "text": [
      "https://lh4.googleusercontent.com/-StAiRqQtsOo/T-32a96XKII/AAAAAAAAFAE/I15_Q_rx01E/s1223/Fullscreen+capture+612012+93527+PM.jpg\n",
      "Warrior-Eli-Hoax/Images/Img_94.jpg\n"
     ]
    },
    {
     "name": "stderr",
     "output_type": "stream",
     "text": [
      " 72%|█████████████████████████████████████████████████████████▎                      | 119/166 [00:50<00:18,  2.58it/s]"
     ]
    },
    {
     "name": "stdout",
     "output_type": "stream",
     "text": [
      "https://lh4.googleusercontent.com/-LQ0eiWhkGoI/T-32cqSOIUI/AAAAAAAAFAM/g6reOJzq2U0/s1223/Fullscreen+capture+612012+93531+PM.jpg\n",
      "Warrior-Eli-Hoax/Images/Img_95.jpg\n"
     ]
    },
    {
     "name": "stderr",
     "output_type": "stream",
     "text": [
      " 72%|█████████████████████████████████████████████████████████▊                      | 120/166 [00:51<00:19,  2.41it/s]"
     ]
    },
    {
     "name": "stdout",
     "output_type": "stream",
     "text": [
      "https://lh3.googleusercontent.com/-PrnjS993gm0/T-32ghob-7I/AAAAAAAAFAU/X5aJ9BqKgy4/s1223/Fullscreen+capture+612012+93535+PM.jpg\n",
      "Warrior-Eli-Hoax/Images/Img_96.jpg\n"
     ]
    },
    {
     "name": "stderr",
     "output_type": "stream",
     "text": [
      " 73%|██████████████████████████████████████████████████████████▎                     | 121/166 [00:51<00:19,  2.30it/s]"
     ]
    },
    {
     "name": "stdout",
     "output_type": "stream",
     "text": [
      "https://lh3.googleusercontent.com/-NzdSZ1gWH7A/T-33c6-oo-I/AAAAAAAAFAc/_xttJ81Vmjc/s1223/Fullscreen+capture+612012+93538+PM.jpg\n",
      "Warrior-Eli-Hoax/Images/Img_97.jpg\n"
     ]
    },
    {
     "name": "stderr",
     "output_type": "stream",
     "text": [
      " 73%|██████████████████████████████████████████████████████████▊                     | 122/166 [00:52<00:18,  2.36it/s]"
     ]
    },
    {
     "name": "stdout",
     "output_type": "stream",
     "text": [
      "https://lh3.googleusercontent.com/-0uDqWtGad5I/T-33fXiGdvI/AAAAAAAAFAk/v3nnevb7Nl0/s1223/Fullscreen+capture+612012+93541+PM.jpg\n",
      "Warrior-Eli-Hoax/Images/Img_98.jpg\n"
     ]
    },
    {
     "name": "stderr",
     "output_type": "stream",
     "text": [
      " 74%|███████████████████████████████████████████████████████████▎                    | 123/166 [00:52<00:18,  2.35it/s]"
     ]
    },
    {
     "name": "stdout",
     "output_type": "stream",
     "text": [
      "https://lh5.googleusercontent.com/-mXjvJQnH9w4/T-33hBKYmUI/AAAAAAAAFAs/VDB9oPuNpx4/s1222/Fullscreen+capture+612012+93544+PM.jpg\n",
      "Warrior-Eli-Hoax/Images/Img_99.jpg\n"
     ]
    },
    {
     "name": "stderr",
     "output_type": "stream",
     "text": [
      " 75%|███████████████████████████████████████████████████████████▊                    | 124/166 [00:53<00:19,  2.17it/s]"
     ]
    },
    {
     "name": "stdout",
     "output_type": "stream",
     "text": [
      "https://lh4.googleusercontent.com/-PKdflY1GBbg/T-33jRdSD-I/AAAAAAAAFA8/yYKa7NgH0go/s1204/Fullscreen+capture+612012+93550+PM.jpg\n",
      "Warrior-Eli-Hoax/Images/Img_100.jpg\n"
     ]
    },
    {
     "name": "stderr",
     "output_type": "stream",
     "text": [
      " 75%|████████████████████████████████████████████████████████████▏                   | 125/166 [00:53<00:17,  2.30it/s]"
     ]
    },
    {
     "name": "stdout",
     "output_type": "stream",
     "text": [
      "https://lh5.googleusercontent.com/-cOm82DKZezk/T-33kq87xuI/AAAAAAAAFBE/nmKxe-vsPHA/s1223/Fullscreen+capture+612012+93628+PM.jpg\n",
      "Warrior-Eli-Hoax/Images/Img_101.jpg\n"
     ]
    },
    {
     "name": "stderr",
     "output_type": "stream",
     "text": [
      " 76%|████████████████████████████████████████████████████████████▋                   | 126/166 [00:54<00:18,  2.21it/s]"
     ]
    },
    {
     "name": "stdout",
     "output_type": "stream",
     "text": [
      "https://lh5.googleusercontent.com/-Cseiw55wu9Q/T-33mkj3i9I/AAAAAAAAFBM/u3JwyUj5Zo4/s1223/Fullscreen+capture+612012+93633+PM.jpg\n",
      "Warrior-Eli-Hoax/Images/Img_102.jpg\n"
     ]
    },
    {
     "name": "stderr",
     "output_type": "stream",
     "text": [
      " 77%|█████████████████████████████████████████████████████████████▏                  | 127/166 [00:54<00:17,  2.26it/s]"
     ]
    },
    {
     "name": "stdout",
     "output_type": "stream",
     "text": [
      "https://lh6.googleusercontent.com/-ACvJgu8iT0g/T-33o5MFqwI/AAAAAAAAFBU/ugMR0_gRSqY/s1223/Fullscreen+capture+612012+93637+PM.jpg\n",
      "Warrior-Eli-Hoax/Images/Img_103.jpg\n"
     ]
    },
    {
     "name": "stderr",
     "output_type": "stream",
     "text": [
      " 77%|█████████████████████████████████████████████████████████████▋                  | 128/166 [00:55<00:17,  2.21it/s]"
     ]
    },
    {
     "name": "stdout",
     "output_type": "stream",
     "text": [
      "https://lh3.googleusercontent.com/-tj-ah_h3cCM/T-33qBT1zBI/AAAAAAAAFBc/MiCenDgsN7I/s1056/Fullscreen+capture+612012+93640+PM.jpg\n",
      "Warrior-Eli-Hoax/Images/Img_104.jpg\n"
     ]
    },
    {
     "name": "stderr",
     "output_type": "stream",
     "text": [
      " 78%|██████████████████████████████████████████████████████████████▏                 | 129/166 [00:55<00:16,  2.22it/s]"
     ]
    },
    {
     "name": "stdout",
     "output_type": "stream",
     "text": [
      "https://lh6.googleusercontent.com/-hDjZx_mvQ6A/T-33rXDD8DI/AAAAAAAAFBk/vwJ8MK7Q4NM/s1223/Fullscreen+capture+612012+93642+PM.jpg\n",
      "Warrior-Eli-Hoax/Images/Img_105.jpg\n"
     ]
    },
    {
     "name": "stderr",
     "output_type": "stream",
     "text": [
      " 78%|██████████████████████████████████████████████████████████████▋                 | 130/166 [00:55<00:16,  2.17it/s]"
     ]
    },
    {
     "name": "stdout",
     "output_type": "stream",
     "text": [
      "https://lh3.googleusercontent.com/-xONDV_nB0JM/T-33tQWlF8I/AAAAAAAAFBs/GWoilS7gO_A/s1222/Fullscreen+capture+612012+93645+PM.jpg\n",
      "Warrior-Eli-Hoax/Images/Img_106.jpg\n"
     ]
    },
    {
     "name": "stderr",
     "output_type": "stream",
     "text": [
      " 79%|███████████████████████████████████████████████████████████████▏                | 131/166 [00:56<00:15,  2.24it/s]"
     ]
    },
    {
     "name": "stdout",
     "output_type": "stream",
     "text": [
      "https://lh4.googleusercontent.com/-WsDwFuIXQ6g/T-33uc1Zr6I/AAAAAAAAFB0/HwrMfvj5YUA/s1223/Fullscreen+capture+612012+93648+PM.jpg\n",
      "Warrior-Eli-Hoax/Images/Img_107.jpg\n"
     ]
    },
    {
     "name": "stderr",
     "output_type": "stream",
     "text": [
      " 80%|███████████████████████████████████████████████████████████████▌                | 132/166 [00:56<00:15,  2.18it/s]"
     ]
    },
    {
     "name": "stdout",
     "output_type": "stream",
     "text": [
      "https://lh3.googleusercontent.com/-vO-eORb8C8A/T-33va9qGcI/AAAAAAAAFB8/Kk0iY_kCV1Q/s1223/Fullscreen+capture+612012+93653+PM.jpg\n",
      "Warrior-Eli-Hoax/Images/Img_108.jpg\n"
     ]
    },
    {
     "name": "stderr",
     "output_type": "stream",
     "text": [
      " 80%|████████████████████████████████████████████████████████████████                | 133/166 [00:57<00:16,  2.00it/s]"
     ]
    },
    {
     "name": "stdout",
     "output_type": "stream",
     "text": [
      "https://lh4.googleusercontent.com/-n6VETq1M4yU/T-33w9ccq_I/AAAAAAAAFCE/uV31kklq5-o/s1222/Fullscreen+capture+612012+93655+PM.jpg\n",
      "Warrior-Eli-Hoax/Images/Img_109.jpg\n"
     ]
    },
    {
     "name": "stderr",
     "output_type": "stream",
     "text": [
      " 81%|████████████████████████████████████████████████████████████████▌               | 134/166 [00:57<00:15,  2.11it/s]"
     ]
    },
    {
     "name": "stdout",
     "output_type": "stream",
     "text": [
      "https://lh5.googleusercontent.com/-v7lHp9SWQbI/T-33xv1SIqI/AAAAAAAAFCM/5NeOy-sPCzI/s988/Fullscreen+capture+612012+93739+PM.jpg\n",
      "Warrior-Eli-Hoax/Images/Img_110.jpg\n"
     ]
    },
    {
     "name": "stderr",
     "output_type": "stream",
     "text": [
      " 81%|█████████████████████████████████████████████████████████████████               | 135/166 [00:58<00:14,  2.16it/s]"
     ]
    },
    {
     "name": "stdout",
     "output_type": "stream",
     "text": [
      "https://lh4.googleusercontent.com/-JGnw__NyLb0/T-33yRlRZEI/AAAAAAAAFCU/c4fxvfsL17o/s1021/Fullscreen+capture+612012+93750+PM.jpg\n",
      "Warrior-Eli-Hoax/Images/Img_111.jpg\n"
     ]
    },
    {
     "name": "stderr",
     "output_type": "stream",
     "text": [
      " 82%|█████████████████████████████████████████████████████████████████▌              | 136/166 [00:58<00:13,  2.18it/s]"
     ]
    },
    {
     "name": "stdout",
     "output_type": "stream",
     "text": [
      "https://lh5.googleusercontent.com/-B_lpEMhXsxo/T-330SOKmjI/AAAAAAAAFCc/vHIxCKkSCTc/s1007/Fullscreen+capture+612012+93753+PM.jpg\n",
      "Warrior-Eli-Hoax/Images/Img_112.jpg\n"
     ]
    },
    {
     "name": "stderr",
     "output_type": "stream",
     "text": [
      " 83%|██████████████████████████████████████████████████████████████████              | 137/166 [00:59<00:12,  2.26it/s]"
     ]
    },
    {
     "name": "stdout",
     "output_type": "stream",
     "text": [
      "https://lh4.googleusercontent.com/-SLPy1BAf8Mo/T-332E2wb0I/AAAAAAAAFCk/etEe73svJ90/s1025/Fullscreen+capture+612012+93755+PM.jpg\n",
      "Warrior-Eli-Hoax/Images/Img_113.jpg\n"
     ]
    },
    {
     "name": "stderr",
     "output_type": "stream",
     "text": [
      " 83%|██████████████████████████████████████████████████████████████████▌             | 138/166 [00:59<00:12,  2.29it/s]"
     ]
    },
    {
     "name": "stdout",
     "output_type": "stream",
     "text": [
      "https://lh3.googleusercontent.com/-o3JNOVu2KtE/T-335zVGglI/AAAAAAAAFCs/6iLR1d5lOuc/s1223/Fullscreen+capture+612012+93759+PM.jpg\n",
      "Warrior-Eli-Hoax/Images/Img_114.jpg\n"
     ]
    },
    {
     "name": "stderr",
     "output_type": "stream",
     "text": [
      " 84%|██████████████████████████████████████████████████████████████████▉             | 139/166 [01:00<00:12,  2.21it/s]"
     ]
    },
    {
     "name": "stdout",
     "output_type": "stream",
     "text": [
      "https://lh3.googleusercontent.com/--WU6GFr4ouw/T-337UtrS6I/AAAAAAAAFC0/FPHLkIC63T0/s986/Fullscreen+capture+612012+93802+PM.jpg\n",
      "Warrior-Eli-Hoax/Images/Img_115.jpg\n"
     ]
    },
    {
     "name": "stderr",
     "output_type": "stream",
     "text": [
      " 84%|███████████████████████████████████████████████████████████████████▍            | 140/166 [01:00<00:12,  2.15it/s]"
     ]
    },
    {
     "name": "stdout",
     "output_type": "stream",
     "text": [
      "https://lh6.googleusercontent.com/-Q4tSewzP058/T-33-Q87NLI/AAAAAAAAFC8/7t56ArWJzsA/s1223/Fullscreen+capture+612012+93804+PM.jpg\n",
      "Warrior-Eli-Hoax/Images/Img_116.jpg\n"
     ]
    },
    {
     "name": "stderr",
     "output_type": "stream",
     "text": [
      " 85%|███████████████████████████████████████████████████████████████████▉            | 141/166 [01:01<00:11,  2.23it/s]"
     ]
    },
    {
     "name": "stdout",
     "output_type": "stream",
     "text": [
      "https://lh3.googleusercontent.com/-B8lCyy7XrVE/T-33-5AwqBI/AAAAAAAAFDE/p6vOEBIg0bE/s1223/Fullscreen+capture+612012+93808+PM.jpg\n",
      "Warrior-Eli-Hoax/Images/Img_117.jpg\n"
     ]
    },
    {
     "name": "stderr",
     "output_type": "stream",
     "text": [
      " 86%|████████████████████████████████████████████████████████████████████▍           | 142/166 [01:01<00:10,  2.26it/s]"
     ]
    },
    {
     "name": "stdout",
     "output_type": "stream",
     "text": [
      "https://www.facebook.com/profile.php?id=1529305159\n",
      "Warrior-Eli-Hoax/Images/Img_118.jpg\n"
     ]
    },
    {
     "name": "stderr",
     "output_type": "stream",
     "text": [
      " 86%|████████████████████████████████████████████████████████████████████▉           | 143/166 [01:01<00:10,  2.29it/s]"
     ]
    },
    {
     "name": "stdout",
     "output_type": "stream",
     "text": [
      "https://lh3.googleusercontent.com/-CYK-XQyz_sY/T-33_e04DsI/AAAAAAAAFDM/fPGawuw4kps/s1223/Fullscreen+capture+612012+93812+PM.jpg\n",
      "Warrior-Eli-Hoax/Images/Img_119.jpg\n"
     ]
    },
    {
     "name": "stderr",
     "output_type": "stream",
     "text": [
      " 87%|█████████████████████████████████████████████████████████████████████▍          | 144/166 [01:02<00:09,  2.31it/s]"
     ]
    },
    {
     "name": "stdout",
     "output_type": "stream",
     "text": [
      "https://lh5.googleusercontent.com/-waVI0OLSxj0/T-34AtgZLfI/AAAAAAAAFDU/Lo7_oBiyt9s/s1223/Fullscreen+capture+612012+93836+PM.jpg\n",
      "Warrior-Eli-Hoax/Images/Img_120.jpg\n"
     ]
    },
    {
     "name": "stderr",
     "output_type": "stream",
     "text": [
      " 87%|█████████████████████████████████████████████████████████████████████▉          | 145/166 [01:02<00:08,  2.41it/s]"
     ]
    },
    {
     "name": "stdout",
     "output_type": "stream",
     "text": [
      "https://lh6.googleusercontent.com/-QfXA9164uHA/T-34BUwTOFI/AAAAAAAAFDc/9m5a5XdMUWM/s1223/Fullscreen+capture+612012+93839+PM.jpg\n",
      "Warrior-Eli-Hoax/Images/Img_121.jpg\n"
     ]
    },
    {
     "name": "stderr",
     "output_type": "stream",
     "text": [
      " 88%|██████████████████████████████████████████████████████████████████████▎         | 146/166 [01:03<00:08,  2.45it/s]"
     ]
    },
    {
     "name": "stdout",
     "output_type": "stream",
     "text": [
      "https://lh3.googleusercontent.com/-ZSfnb9g5CBk/T-34DnCt0xI/AAAAAAAAFDk/2Buszt7r7Kg/s1223/Fullscreen+capture+612012+93842+PM.jpg\n",
      "Warrior-Eli-Hoax/Images/Img_122.jpg\n"
     ]
    },
    {
     "name": "stderr",
     "output_type": "stream",
     "text": [
      " 89%|██████████████████████████████████████████████████████████████████████▊         | 147/166 [01:03<00:07,  2.39it/s]"
     ]
    },
    {
     "name": "stdout",
     "output_type": "stream",
     "text": [
      "http://0370f4a.netsolhost.com/wordpress2/wp-content/uploads/2012/06/111.jpg\n",
      "Warrior-Eli-Hoax/Images/Img_123.jpg\n"
     ]
    },
    {
     "name": "stderr",
     "output_type": "stream",
     "text": [
      " 89%|███████████████████████████████████████████████████████████████████████▎        | 148/166 [01:03<00:07,  2.50it/s]"
     ]
    },
    {
     "name": "stdout",
     "output_type": "stream",
     "text": [
      "http://0370f4a.netsolhost.com/wordpress2/wp-content/uploads/2012/06/222.jpg\n",
      "Warrior-Eli-Hoax/Images/Img_124.jpg\n"
     ]
    },
    {
     "name": "stderr",
     "output_type": "stream",
     "text": [
      " 90%|███████████████████████████████████████████████████████████████████████▊        | 149/166 [01:04<00:05,  2.87it/s]"
     ]
    },
    {
     "name": "stdout",
     "output_type": "stream",
     "text": [
      "http://www.warriorelihoax.com/author/warriorelihoax/\n",
      "Warrior-Eli-Hoax/Images/Img_125.jpg\n"
     ]
    },
    {
     "name": "stderr",
     "output_type": "stream",
     "text": [
      " 90%|████████████████████████████████████████████████████████████████████████▎       | 150/166 [01:04<00:05,  2.83it/s]"
     ]
    },
    {
     "name": "stdout",
     "output_type": "stream",
     "text": [
      "http://www.warriorelihoax.com/2012/06/29/the-friends-and-family-of-js-dirr/\n",
      "Warrior-Eli-Hoax/Images/Img_126.jpg\n"
     ]
    },
    {
     "name": "stderr",
     "output_type": "stream",
     "text": [
      " 91%|████████████████████████████████████████████████████████████████████████▊       | 151/166 [01:05<00:07,  2.12it/s]"
     ]
    },
    {
     "name": "stdout",
     "output_type": "stream",
     "text": [
      "http://www.warriorelihoax.com/category/emily-dirr/\n",
      "Warrior-Eli-Hoax/Images/Img_127.jpg\n"
     ]
    },
    {
     "name": "stderr",
     "output_type": "stream",
     "text": [
      " 92%|█████████████████████████████████████████████████████████████████████████▎      | 152/166 [01:05<00:06,  2.07it/s]"
     ]
    },
    {
     "name": "stdout",
     "output_type": "stream",
     "text": [
      "http://www.warriorelihoax.com/category/warrior-eli-hoax/\n",
      "Warrior-Eli-Hoax/Images/Img_128.jpg\n"
     ]
    },
    {
     "name": "stderr",
     "output_type": "stream",
     "text": [
      " 92%|█████████████████████████████████████████████████████████████████████████▋      | 153/166 [01:06<00:06,  2.07it/s]"
     ]
    },
    {
     "name": "stdout",
     "output_type": "stream",
     "text": [
      "http://www.warriorelihoax.com/2012/06/29/the-friends-and-family-of-js-dirr/#comments\n",
      "Warrior-Eli-Hoax/Images/Img_129.jpg\n"
     ]
    },
    {
     "name": "stderr",
     "output_type": "stream",
     "text": [
      " 93%|██████████████████████████████████████████████████████████████████████████▏     | 154/166 [01:06<00:06,  1.93it/s]"
     ]
    },
    {
     "name": "stdout",
     "output_type": "stream",
     "text": [
      "http://www.warriorelihoax.com/category/Warrior-Eli-Hoax/page/2/\n",
      "Warrior-Eli-Hoax/Images/Img_130.jpg\n"
     ]
    },
    {
     "name": "stderr",
     "output_type": "stream",
     "text": [
      " 93%|██████████████████████████████████████████████████████████████████████████▋     | 155/166 [01:07<00:05,  1.98it/s]"
     ]
    },
    {
     "name": "stdout",
     "output_type": "stream",
     "text": [
      "http://www.warriorelihoax.com/category/Warrior-Eli-Hoax/page/15/\n",
      "Warrior-Eli-Hoax/Images/Img_131.jpg\n"
     ]
    },
    {
     "name": "stderr",
     "output_type": "stream",
     "text": [
      " 94%|███████████████████████████████████████████████████████████████████████████▏    | 156/166 [01:07<00:04,  2.14it/s]"
     ]
    },
    {
     "name": "stdout",
     "output_type": "stream",
     "text": [
      "http://www.warriorelihoax.com/category/Warrior-Eli-Hoax/page/2/\n",
      "Warrior-Eli-Hoax/Images/Img_132.jpg\n"
     ]
    },
    {
     "name": "stderr",
     "output_type": "stream",
     "text": [
      " 95%|███████████████████████████████████████████████████████████████████████████▋    | 157/166 [01:08<00:04,  2.15it/s]"
     ]
    },
    {
     "name": "stdout",
     "output_type": "stream",
     "text": [
      "https://plus.google.com/103974615504124570817\n",
      "Warrior-Eli-Hoax/Images/Img_133.jpg\n"
     ]
    },
    {
     "name": "stderr",
     "output_type": "stream",
     "text": [
      " 95%|████████████████████████████████████████████████████████████████████████████▏   | 158/166 [01:08<00:03,  2.29it/s]"
     ]
    },
    {
     "name": "stdout",
     "output_type": "stream",
     "text": [
      "http://warriorelihoax.com/\n",
      "Warrior-Eli-Hoax/Images/Img_134.jpg\n"
     ]
    },
    {
     "name": "stderr",
     "output_type": "stream",
     "text": [
      " 96%|████████████████████████████████████████████████████████████████████████████▋   | 159/166 [01:10<00:06,  1.02it/s]"
     ]
    },
    {
     "name": "stdout",
     "output_type": "stream",
     "text": [
      "http://www.warriorelihoax.com/links/\n",
      "Warrior-Eli-Hoax/Images/Img_135.jpg\n"
     ]
    },
    {
     "name": "stderr",
     "output_type": "stream",
     "text": [
      " 96%|█████████████████████████████████████████████████████████████████████████████   | 160/166 [01:11<00:04,  1.26it/s]"
     ]
    },
    {
     "name": "stdout",
     "output_type": "stream",
     "text": [
      "http://www.warriorelihoax.com/report-a-suspected-hoax/\n",
      "Warrior-Eli-Hoax/Images/Img_136.jpg\n"
     ]
    },
    {
     "name": "stderr",
     "output_type": "stream",
     "text": [
      " 97%|█████████████████████████████████████████████████████████████████████████████▌  | 161/166 [01:12<00:04,  1.04it/s]"
     ]
    },
    {
     "name": "stdout",
     "output_type": "stream",
     "text": [
      "https://www.facebook.com/WarriorEliHoax\n",
      "Warrior-Eli-Hoax/Images/Img_137.jpg\n"
     ]
    },
    {
     "name": "stderr",
     "output_type": "stream",
     "text": [
      " 98%|██████████████████████████████████████████████████████████████████████████████  | 162/166 [01:12<00:03,  1.22it/s]"
     ]
    },
    {
     "name": "stdout",
     "output_type": "stream",
     "text": [
      "http://warriorelihoax.tumblr.com/\n",
      "Warrior-Eli-Hoax/Images/Img_138.jpg\n"
     ]
    },
    {
     "name": "stderr",
     "output_type": "stream",
     "text": [
      " 98%|██████████████████████████████████████████████████████████████████████████████▌ | 163/166 [01:13<00:02,  1.15it/s]"
     ]
    },
    {
     "name": "stdout",
     "output_type": "stream",
     "text": [
      "https://twitter.com/WarriorEliHoax\n",
      "Warrior-Eli-Hoax/Images/Img_139.jpg\n"
     ]
    },
    {
     "name": "stderr",
     "output_type": "stream",
     "text": [
      " 99%|███████████████████████████████████████████████████████████████████████████████ | 164/166 [01:14<00:01,  1.34it/s]"
     ]
    },
    {
     "name": "stdout",
     "output_type": "stream",
     "text": [
      "http://www.warriorelihoax.com/\n",
      "Warrior-Eli-Hoax/Images/Img_140.jpg\n"
     ]
    },
    {
     "name": "stderr",
     "output_type": "stream",
     "text": [
      " 99%|███████████████████████████████████████████████████████████████████████████████▌| 165/166 [01:14<00:00,  1.60it/s]"
     ]
    },
    {
     "name": "stdout",
     "output_type": "stream",
     "text": [
      "https://wordpress.org/\n",
      "Warrior-Eli-Hoax/Images/Img_141.jpg\n"
     ]
    },
    {
     "name": "stderr",
     "output_type": "stream",
     "text": [
      "100%|████████████████████████████████████████████████████████████████████████████████| 166/166 [01:15<00:00,  1.70it/s]\n"
     ]
    }
   ],
   "source": [
    "x = spider.scrape_images()"
   ]
  },
  {
   "cell_type": "code",
   "execution_count": 9,
   "metadata": {},
   "outputs": [
    {
     "name": "stdout",
     "output_type": "stream",
     "text": [
      "#content\n",
      "http://www.warriorelihoax.com/\n",
      "http://warriorelihoax.com/\n",
      "http://www.warriorelihoax.com/links/\n",
      "http://www.warriorelihoax.com/report-a-suspected-hoax/\n",
      "https://www.facebook.com/WarriorEliHoax\n",
      "http://warriorelihoax.tumblr.com/\n",
      "https://twitter.com/WarriorEliHoax\n",
      "http://www.warriorelihoax.com/2013/01/10/emily-dirr-and-warrior-eli/\n",
      "http://warriorelihoax.wordpress.com/2012/06/05/emilys-runaway-imagination/\n",
      "http://warriorelihoax.wordpress.com/category/emily-dirr/\n",
      "https://www.facebook.com/WarriorEliHoax\n",
      "http://0370f4a.netsolhost.com/wordpress2/wp-content/uploads/2012/06/547930_10150950252901153_526411152_12003746_568653530_n-1.jpg\n",
      "http://warriorelihoax.wordpress.com/2012/05/14/the-death-of-dana-dirr-16/\n",
      "http://webcache.googleusercontent.com/search?q=cache:fyTqC-WSBMEJ:www.facebook.com/warrioreli/timeline+&cd=13&hl=en&ct=clnk&gl=us\n",
      "http://0370f4a.netsolhost.com/wordpress2/wp-content/uploads/2012/06/6a00d8341c792353ef0168eb7c94d6970c-800wi1.jpg\n",
      "http://mwopblog.com\n",
      "http://www.tineye.com/\n",
      "https://www.google.com/imghp?hl=en&tab=wi&authuser=0\n",
      "http://0370f4a.netsolhost.com/wordpress2/wp-content/uploads/2012/06/twins-birthday-party-at-school-google-chrome-5142012-125029-am1.jpg\n",
      "http://www.tertia.org/so_close/2008/12/kid-round-up.html\n",
      "http://www.tertia.org/\n",
      "http://warriorelihoax.wordpress.com/2012/05/14/js-dirr-truck-accident-2/\n",
      "http://warriorelihoax.wordpress.com/2012/05/14/js-dirrs-cardiology-problem/\n",
      "http://warriorelihoax.wordpress.com/2012/05/14/fake-pregnant-belly/\n",
      "http://warriorelihoax.wordpress.com/2012/05/14/tangled-web-3/\n",
      "http://warriorelihoax.wordpress.com/2012/05/16/the-ex-girlfriends-of-js-dirr/\n",
      "http://0370f4a.netsolhost.com/wordpress2/wp-content/uploads/2012/06/crazycanuckj_fullsize_e59e5e31-0e0d-556c-053bbe8e2bd74f3e.jpg\n",
      "http://warriorelihoax.wordpress.com/2012/05/22/timeline/\n",
      "http://warriorelihoax.wordpress.com/2012/05/14/xanga-summary/\n",
      "http://answers.yahoo.com/activity?show=AA11987949\n",
      "http://0370f4a.netsolhost.com/wordpress2/wp-content/uploads/2012/06/fullscreen-capture-652012-72119-am.jpg\n",
      "http://webcache.googleusercontent.com/search?q=cache:NusmL9EQpN4J:familytreemaker.genealogy.com/users/b/xx/xx/H-A-B/WEBSITE-0001/UHP-0368.html+&cd=1&hl=en&ct=clnk&gl=us\n",
      "http://0370f4a.netsolhost.com/wordpress2/wp-content/uploads/2012/06/warrior-eli-donations-alexs-lemonade-stand-foundation-for-childhood-cancer-google-chrome-5142012-40155-pm-bmp.jpg\n",
      "http://0370f4a.netsolhost.com/wordpress2/wp-content/uploads/2012/06/bracelet.jpg\n",
      "http://0370f4a.netsolhost.com/wordpress2/wp-content/uploads/2012/06/emilypackage.jpg\n",
      "http://warriorelihoax.wordpress.com/2012/05/14/yes-warrior-eli-is-a-hoax/\n",
      "http://warriorelihoax.wordpress.com/2012/05/15/a-message-from-emily-5-2/\n",
      "http://0370f4a.netsolhost.com/wordpress2/wp-content/uploads/2012/06/caringbridge-eli-dirr-photos-google-chrome-5142012-35415-am.jpg\n",
      "http://warriorelihoax.wordpress.com/2012/05/17/the-love-story-of-js-dirr-and-reader-2-5-2/\n",
      "http://warriorelihoax.wordpress.com/2012/05/16/reader-1s-response-to-emily/\n",
      "http://warriorelihoax.wordpress.com/2012/05/19/the-impact/\n",
      "http://warriorelihoax.wordpress.com/2012/05/17/munchausen-by-internet/\n",
      "https://www.facebook.com/groups/326867917372019/\n",
      "http://www.warriorelihoax.com/author/warriorelihoax/\n",
      "http://www.warriorelihoax.com/2013/01/10/emily-dirr-and-warrior-eli/\n",
      "http://www.warriorelihoax.com/category/emily-dirr/\n",
      "http://www.warriorelihoax.com/category/warrior-eli-hoax/\n",
      "http://www.warriorelihoax.com/2013/01/10/emily-dirr-and-warrior-eli/#comments\n",
      "http://www.warriorelihoax.com/2012/07/05/why-did-dana-dirr-have-to-die/\n",
      "http://0370f4a.netsolhost.com/wordpress2/wp-content/uploads/2012/07/534930_10151206392954505_1217027889_n.jpg\n",
      "http://0370f4a.netsolhost.com/wordpress2/wp-content/uploads/2012/07/599693_10151206424964505_1820125879_n1.jpg\n",
      "http://warriorelihoax.wordpress.com/2012/05/14/xanga-summary/\n",
      "http://www.flickr.com/people/julia_kde/\n",
      "http://0370f4a.netsolhost.com/wordpress2/wp-content/uploads/2012/07/fullscreen-capture-752012-112839-pm1.jpg\n",
      "http://warriorelihoax.wordpress.com/2012/05/14/js-dirr-truck-accident-2/\n",
      "http://0370f4a.netsolhost.com/wordpress2/wp-content/uploads/2012/07/wall-photos-google-chrome-5142012-14054-am1.jpg\n",
      "http://www.flickr.com/photos/angelamarybutler/3727154888/\n",
      "http://www.flickr.com/photos/becstarr/7050260367/\n",
      "http://www.flickr.com/photos/odelay79/323221453/\n",
      "http://www.warriorelihoax.com/author/warriorelihoax/\n",
      "http://www.warriorelihoax.com/2012/07/05/why-did-dana-dirr-have-to-die/\n",
      "http://www.warriorelihoax.com/category/emily-dirr/\n",
      "http://www.warriorelihoax.com/category/warrior-eli-hoax/\n",
      "http://www.warriorelihoax.com/2012/07/05/why-did-dana-dirr-have-to-die/#comments\n",
      "http://www.warriorelihoax.com/2012/06/29/the-friends-and-family-of-js-dirr/\n",
      "http://0370f4a.netsolhost.com/wordpress2/wp-content/uploads/2012/06/mitchy1.jpg\n",
      "http://0370f4a.netsolhost.com/wordpress2/wp-content/uploads/2012/06/mitchy3.jpg\n",
      "http://0370f4a.netsolhost.com/wordpress2/wp-content/uploads/2012/06/mitchy4.jpg\n",
      "http://0370f4a.netsolhost.com/wordpress2/wp-content/uploads/2012/06/mitchy6.jpg\n",
      "http://0370f4a.netsolhost.com/wordpress2/wp-content/uploads/2012/06/mitchy11.jpg\n",
      "http://0370f4a.netsolhost.com/wordpress2/wp-content/uploads/2012/06/mitchy17.jpg\n",
      "http://gawker.com/5914621/the-long-fake-life-of-js-dirr-a-decade+long-internet-cancer-hoax-unravels\n",
      "http://0370f4a.netsolhost.com/wordpress2/wp-content/uploads/2012/06/untitled.jpg\n",
      "http://www.stbaldricks.org/participants/donorlist/518331/2012/\n",
      "http://www.youtube.com/user/UsAnd8\n",
      "https://plus.google.com/photos/110644623131027070905/albums/5760963550158824241\n",
      "https://www.facebook.com/help/?faq=224562897555674\n",
      "https://plus.google.com/photos/110644623131027070905/albums/5760945577163439617\n",
      "https://plus.google.com/photos/110644623131027070905/albums/5760944917998554113\n",
      "https://plus.google.com/photos/110644623131027070905/albums/5760946145720154705\n",
      "https://plus.google.com/photos/110644623131027070905/albums/5760946145720154705\n",
      "https://lh3.googleusercontent.com/-skIbn1tQTFQ/T-3zPPqo-QI/AAAAAAAAE8A/l6BFFicuGNY/s1105/Kim+Sutton+-+Google+Chrome+5142012+43434+AM.jpg\n",
      "https://lh3.googleusercontent.com/--d90GDsJa9U/T-3zWkVmFWI/AAAAAAAAE8M/ZOhuP-2s1XQ/s1105/Wayne+Houston+-+Google+Chrome+5142012+43442+AM.jpg\n",
      "https://lh4.googleusercontent.com/-uoDtjzgK3tE/T-30IwEJSFI/AAAAAAAAE8k/wwIA1HIwJVo/s1137/Marc+LeBeau+-+Google+Chrome+5142012+43731+AM.jpg\n",
      "https://lh6.googleusercontent.com/-19AxZlBLDGQ/T-30McBvvJI/AAAAAAAAE8s/gmcJR3JFlq8/s1009/Brittany+Morton+-+Google+Chrome+5142012+43850+AM.jpg\n",
      "https://lh4.googleusercontent.com/-rfPZJmVTEk4/T-30OcEy6UI/AAAAAAAAE80/dIsrSZGHuXg/s1156/Adam+Spain+-+Google+Chrome+5142012+44005+AM.jpg\n",
      "https://lh3.googleusercontent.com/-TWoq6QlvPZ0/T-30o5QLbAI/AAAAAAAAE88/2fIhddO1UF8/s1077/Alex+Spain+-+Google+Chrome+5142012+44015+AM.jpg\n",
      "https://lh6.googleusercontent.com/-8bwfdDwiF2E/T-30ruf3VlI/AAAAAAAAE9E/Ho4_gAZ1UBM/s1091/Benita+Miller+-+Google+Chrome+5142012+44046+AM.jpg\n",
      "https://lh3.googleusercontent.com/-nQ3arb0010Q/T-30tduhbSI/AAAAAAAAE9M/4h_pIUMJc2g/s1093/Mitchy+Aaron+-+Google+Chrome+5142012+44112+AM.jpg\n",
      "https://lh4.googleusercontent.com/-uD_eXo-P9qQ/T-30u_2gtDI/AAAAAAAAE9U/R9yVimvbyso/s1079/Shane+Pellizer+-+Google+Chrome+5142012+44147+AM.jpg\n",
      "https://lh5.googleusercontent.com/-EXM1e5TjB-o/T-30wx7it2I/AAAAAAAAE9c/QFxkAo8O67E/s1139/Ben+Palmer+-+Google+Chrome+5142012+44210+AM.jpg\n",
      "https://lh5.googleusercontent.com/-tARKmr1EW-o/T-30yQvZjuI/AAAAAAAAE9k/b9BTQ7pCvjo/s1057/Todd+White+-+Google+Chrome+5142012+44253+AM.jpg\n",
      "https://lh5.googleusercontent.com/-x_3O9UdM0Ow/T-30zUfyKfI/AAAAAAAAE9s/J0A33cTJInw/s1065/Rob+Birclay+-+Google+Chrome+5142012+44357+AM.jpg\n",
      "https://lh3.googleusercontent.com/-XZLBUNfQBnI/T-4AaSyNjpI/AAAAAAAAFFo/HY6dzuGBHcY/s710/294975_10150816963436497_509145357_n.jpg\n",
      "https://lh6.googleusercontent.com/-DZq6P0lsu3k/T-4AZMcCyyI/AAAAAAAAFFY/fGTEeML2WII/s704/576906_10150816960891497_672740986_n.jpg\n",
      "https://lh3.googleusercontent.com/-Cql9tJJmYWU/T-4AZikU3QI/AAAAAAAAFFg/etAlBkrHWKY/s736/546293_10150816961146497_848375616_n.jpg\n",
      "https://lh5.googleusercontent.com/-KirpXP0uy2A/T-300mdYxwI/AAAAAAAAE90/M1PZcN19Yps/s1042/Doug+Clark+-+Google+Chrome+5142012+44428+AM.jpg\n",
      "https://lh4.googleusercontent.com/-HFUUZJd-g68/T-302UFRL8I/AAAAAAAAE98/H_LF67btTUU/s1067/Grace+Benedatto+-+Google+Chrome+5142012+44527+AM.jpg\n",
      "https://lh4.googleusercontent.com/-Nd2i4mIm4Cc/T-309Ieu3fI/AAAAAAAAE-E/jcX8MBkLZL8/s1045/Joshua+Dirr+-+Google+Chrome+5142012+44601+AM.jpg\n",
      "https://lh5.googleusercontent.com/-7Rs0RqCqq9o/T-31x6qRUbI/AAAAAAAAE-M/IHDcywP1Cw0/s1011/Ashleigh+Miller+-+Google+Chrome+5142012+44629+AM.jpg\n",
      "https://lh3.googleusercontent.com/-E7u7nZhdBiM/T-31y_0f3yI/AAAAAAAAE-U/fUIILvBgDeI/s1077/Sid+Baker+-+Google+Chrome+5142012+44727+AM.jpg\n",
      "https://lh3.googleusercontent.com/-aFnfI2GPDjw/T-3146dF2EI/AAAAAAAAE-c/9GB4qRBidmI/s1127/Wade+Ralleigh+-+Google+Chrome+5142012+44756+AM.jpg\n",
      "https://lh3.googleusercontent.com/-VSdnmT-qPjM/T-316rkdmrI/AAAAAAAAE-k/bq1iG0MxrhI/s1047/Dierks+Cody+-+Google+Chrome+5142012+44828+AM.jpg\n",
      "https://www.facebook.com/lynn.aaron.12?sk=wall\n",
      "https://lh3.googleusercontent.com/-xI7fmUyaqZA/T_L-7lzGgrI/AAAAAAAAFLk/RBigfxKposw/s598/Fullscreen+capture+732012+91601+AM.jpg\n",
      "https://lh5.googleusercontent.com/-xI7fmUyaqZA/T_L-7lzGgrI/AAAAAAAAFLs/dRDRgJ1Wvmo/s549/Fullscreen+capture+732012+91601+AM.jpg\n",
      "https://lh5.googleusercontent.com/-xI7fmUyaqZA/T_L-7lzGgrI/AAAAAAAAFLs/dRDRgJ1Wvmo/s549/Fullscreen+capture+732012+91601+AM.jpg\n",
      "https://lh3.googleusercontent.com/-xI7fmUyaqZA/T_L-7lzGgrI/AAAAAAAAFLk/RBigfxKposw/s598/Fullscreen+capture+732012+91601+AM.jpg\n",
      "https://lh5.googleusercontent.com/-w9mFs8L103Y/T-32DjVnPpI/AAAAAAAAE-s/Ke3ziff_uVA/s800/Ex-Girlfriends+of+JS+-+Google+Chrome+5162012+75241+AM.jpg\n",
      "https://www.facebook.com/groups/326867917372019/\n",
      "https://lh4.googleusercontent.com/-1GQLq4BogDU/T-32GDRSp5I/AAAAAAAAE-0/sTArMGlw2yA/s688/Alyssa+Shaw+-+Google+Chrome+5162012+75342+AM.jpg\n",
      "https://lh5.googleusercontent.com/-8IEhfvlfA-c/T-32QM43B1I/AAAAAAAAE_U/RhbpH0PNZF4/s1223/Fullscreen+capture+612012+93405+PM.jpg\n",
      "https://lh4.googleusercontent.com/-e62UB54EAI4/T-32R7YlRaI/AAAAAAAAE_c/6rwNsj8mZtw/s1203/Fullscreen+capture+612012+93408+PM.jpg\n",
      "https://lh3.googleusercontent.com/-9mzfa8rhibo/T-32Sl2QvXI/AAAAAAAAE_k/CrWHE2hk-oQ/s1222/Fullscreen+capture+612012+93412+PM.jpg\n",
      "https://lh3.googleusercontent.com/-Z3cAV--6_00/T-32TXUUHVI/AAAAAAAAE_s/teZKIa2IEMM/s1223/Fullscreen+capture+612012+93414+PM.jpg\n",
      "https://lh5.googleusercontent.com/-cxm_JolLqUU/T-32UeMFiMI/AAAAAAAAE_0/u3FegIDCxV0/s1222/Fullscreen+capture+612012+93419+PM.jpg\n",
      "https://lh4.googleusercontent.com/-j0DqA6BRfKQ/T-32WdvBucI/AAAAAAAAE_8/-oMleWRnm8Q/s1223/Fullscreen+capture+612012+93453+PM.jpg\n",
      "https://lh4.googleusercontent.com/-StAiRqQtsOo/T-32a96XKII/AAAAAAAAFAE/I15_Q_rx01E/s1223/Fullscreen+capture+612012+93527+PM.jpg\n",
      "https://lh4.googleusercontent.com/-LQ0eiWhkGoI/T-32cqSOIUI/AAAAAAAAFAM/g6reOJzq2U0/s1223/Fullscreen+capture+612012+93531+PM.jpg\n",
      "https://lh3.googleusercontent.com/-PrnjS993gm0/T-32ghob-7I/AAAAAAAAFAU/X5aJ9BqKgy4/s1223/Fullscreen+capture+612012+93535+PM.jpg\n",
      "https://lh3.googleusercontent.com/-NzdSZ1gWH7A/T-33c6-oo-I/AAAAAAAAFAc/_xttJ81Vmjc/s1223/Fullscreen+capture+612012+93538+PM.jpg\n",
      "https://lh3.googleusercontent.com/-0uDqWtGad5I/T-33fXiGdvI/AAAAAAAAFAk/v3nnevb7Nl0/s1223/Fullscreen+capture+612012+93541+PM.jpg\n",
      "https://lh5.googleusercontent.com/-mXjvJQnH9w4/T-33hBKYmUI/AAAAAAAAFAs/VDB9oPuNpx4/s1222/Fullscreen+capture+612012+93544+PM.jpg\n",
      "https://lh4.googleusercontent.com/-PKdflY1GBbg/T-33jRdSD-I/AAAAAAAAFA8/yYKa7NgH0go/s1204/Fullscreen+capture+612012+93550+PM.jpg\n",
      "https://lh5.googleusercontent.com/-cOm82DKZezk/T-33kq87xuI/AAAAAAAAFBE/nmKxe-vsPHA/s1223/Fullscreen+capture+612012+93628+PM.jpg\n",
      "https://lh5.googleusercontent.com/-Cseiw55wu9Q/T-33mkj3i9I/AAAAAAAAFBM/u3JwyUj5Zo4/s1223/Fullscreen+capture+612012+93633+PM.jpg\n",
      "https://lh6.googleusercontent.com/-ACvJgu8iT0g/T-33o5MFqwI/AAAAAAAAFBU/ugMR0_gRSqY/s1223/Fullscreen+capture+612012+93637+PM.jpg\n",
      "https://lh3.googleusercontent.com/-tj-ah_h3cCM/T-33qBT1zBI/AAAAAAAAFBc/MiCenDgsN7I/s1056/Fullscreen+capture+612012+93640+PM.jpg\n",
      "https://lh6.googleusercontent.com/-hDjZx_mvQ6A/T-33rXDD8DI/AAAAAAAAFBk/vwJ8MK7Q4NM/s1223/Fullscreen+capture+612012+93642+PM.jpg\n",
      "https://lh3.googleusercontent.com/-xONDV_nB0JM/T-33tQWlF8I/AAAAAAAAFBs/GWoilS7gO_A/s1222/Fullscreen+capture+612012+93645+PM.jpg\n",
      "https://lh4.googleusercontent.com/-WsDwFuIXQ6g/T-33uc1Zr6I/AAAAAAAAFB0/HwrMfvj5YUA/s1223/Fullscreen+capture+612012+93648+PM.jpg\n",
      "https://lh3.googleusercontent.com/-vO-eORb8C8A/T-33va9qGcI/AAAAAAAAFB8/Kk0iY_kCV1Q/s1223/Fullscreen+capture+612012+93653+PM.jpg\n",
      "https://lh4.googleusercontent.com/-n6VETq1M4yU/T-33w9ccq_I/AAAAAAAAFCE/uV31kklq5-o/s1222/Fullscreen+capture+612012+93655+PM.jpg\n",
      "https://lh5.googleusercontent.com/-v7lHp9SWQbI/T-33xv1SIqI/AAAAAAAAFCM/5NeOy-sPCzI/s988/Fullscreen+capture+612012+93739+PM.jpg\n",
      "https://lh4.googleusercontent.com/-JGnw__NyLb0/T-33yRlRZEI/AAAAAAAAFCU/c4fxvfsL17o/s1021/Fullscreen+capture+612012+93750+PM.jpg\n",
      "https://lh5.googleusercontent.com/-B_lpEMhXsxo/T-330SOKmjI/AAAAAAAAFCc/vHIxCKkSCTc/s1007/Fullscreen+capture+612012+93753+PM.jpg\n",
      "https://lh4.googleusercontent.com/-SLPy1BAf8Mo/T-332E2wb0I/AAAAAAAAFCk/etEe73svJ90/s1025/Fullscreen+capture+612012+93755+PM.jpg\n",
      "https://lh3.googleusercontent.com/-o3JNOVu2KtE/T-335zVGglI/AAAAAAAAFCs/6iLR1d5lOuc/s1223/Fullscreen+capture+612012+93759+PM.jpg\n",
      "https://lh3.googleusercontent.com/--WU6GFr4ouw/T-337UtrS6I/AAAAAAAAFC0/FPHLkIC63T0/s986/Fullscreen+capture+612012+93802+PM.jpg\n",
      "https://lh6.googleusercontent.com/-Q4tSewzP058/T-33-Q87NLI/AAAAAAAAFC8/7t56ArWJzsA/s1223/Fullscreen+capture+612012+93804+PM.jpg\n",
      "https://lh3.googleusercontent.com/-B8lCyy7XrVE/T-33-5AwqBI/AAAAAAAAFDE/p6vOEBIg0bE/s1223/Fullscreen+capture+612012+93808+PM.jpg\n",
      "https://www.facebook.com/profile.php?id=1529305159\n",
      "https://lh3.googleusercontent.com/-CYK-XQyz_sY/T-33_e04DsI/AAAAAAAAFDM/fPGawuw4kps/s1223/Fullscreen+capture+612012+93812+PM.jpg\n",
      "https://lh5.googleusercontent.com/-waVI0OLSxj0/T-34AtgZLfI/AAAAAAAAFDU/Lo7_oBiyt9s/s1223/Fullscreen+capture+612012+93836+PM.jpg\n",
      "https://lh6.googleusercontent.com/-QfXA9164uHA/T-34BUwTOFI/AAAAAAAAFDc/9m5a5XdMUWM/s1223/Fullscreen+capture+612012+93839+PM.jpg\n",
      "https://lh3.googleusercontent.com/-ZSfnb9g5CBk/T-34DnCt0xI/AAAAAAAAFDk/2Buszt7r7Kg/s1223/Fullscreen+capture+612012+93842+PM.jpg\n",
      "http://0370f4a.netsolhost.com/wordpress2/wp-content/uploads/2012/06/111.jpg\n",
      "http://0370f4a.netsolhost.com/wordpress2/wp-content/uploads/2012/06/222.jpg\n",
      "http://www.warriorelihoax.com/author/warriorelihoax/\n",
      "http://www.warriorelihoax.com/2012/06/29/the-friends-and-family-of-js-dirr/\n",
      "http://www.warriorelihoax.com/category/emily-dirr/\n",
      "http://www.warriorelihoax.com/category/warrior-eli-hoax/\n",
      "http://www.warriorelihoax.com/2012/06/29/the-friends-and-family-of-js-dirr/#comments\n",
      "http://www.warriorelihoax.com/category/Warrior-Eli-Hoax/page/2/\n",
      "http://www.warriorelihoax.com/category/Warrior-Eli-Hoax/page/15/\n",
      "http://www.warriorelihoax.com/category/Warrior-Eli-Hoax/page/2/\n",
      "https://plus.google.com/103974615504124570817\n",
      "http://warriorelihoax.com/\n",
      "http://www.warriorelihoax.com/links/\n",
      "http://www.warriorelihoax.com/report-a-suspected-hoax/\n",
      "https://www.facebook.com/WarriorEliHoax\n",
      "http://warriorelihoax.tumblr.com/\n",
      "https://twitter.com/WarriorEliHoax\n",
      "http://www.warriorelihoax.com/\n",
      "https://wordpress.org/\n"
     ]
    }
   ],
   "source": [
    "for img in x:\n",
    "    print(img['href'])"
   ]
  },
  {
   "cell_type": "code",
   "execution_count": null,
   "metadata": {},
   "outputs": [],
   "source": []
  }
 ],
 "metadata": {
  "kernelspec": {
   "display_name": "Python 3",
   "language": "python",
   "name": "python3"
  },
  "language_info": {
   "codemirror_mode": {
    "name": "ipython",
    "version": 3
   },
   "file_extension": ".py",
   "mimetype": "text/x-python",
   "name": "python",
   "nbconvert_exporter": "python",
   "pygments_lexer": "ipython3",
   "version": "3.7.3"
  }
 },
 "nbformat": 4,
 "nbformat_minor": 4
}
