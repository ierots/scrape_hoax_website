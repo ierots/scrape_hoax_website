{
 "cells": [
  {
   "cell_type": "code",
   "execution_count": 7,
   "metadata": {},
   "outputs": [],
   "source": [
    "import numpy as np\n",
    "import pandas as pd \n",
    "import matplotlib.pyplot as plt \n",
    "from bs4 import BeautifulSoup\n",
    "import os \n",
    "import json\n",
    "import sys \n",
    "import tqdm\n",
    "\n",
    "from PIL import Image\n",
    "import pytesseract\n",
    "\n",
    "pytesseract.pytesseract.tesseract_cmd = r'C:\\Program Files\\Tesseract-OCR\\tesseract'\n",
    "\n",
    "%matplotlib inline"
   ]
  },
  {
   "cell_type": "markdown",
   "metadata": {},
   "source": [
    "#### Function that converts images as text if exist"
   ]
  },
  {
   "cell_type": "code",
   "execution_count": 12,
   "metadata": {},
   "outputs": [],
   "source": [
    "def img_to_txt(directory):\n",
    "    \n",
    "    for img in tqdm.tqdm(os.listdir(directory)):\n",
    "        try:\n",
    "            txt = pytesseract.image_to_string(Image.open(directory + img))\n",
    "            txt_directory = directory[:-7] + \"/Images_as_text\"\n",
    "            if not os.path.exists(txt_directory):\n",
    "                os.makedirs(txt_directory)\n",
    "            txt_name = str(img[:-4]) + \"_txt.txt\"\n",
    "            with open(txt_directory + \"/\" + txt_name, \"w\") as text:\n",
    "                text.write(txt.replace('\\n', \" \"))\n",
    "        except:\n",
    "            pass"
   ]
  },
  {
   "cell_type": "code",
   "execution_count": 13,
   "metadata": {},
   "outputs": [],
   "source": [
    "directory = 'C:/Users/Tsantilas I/Desktop/OSINT_work/scrape_ONSIT/cases/Warrior-Eli-Hoax/Images/'\n"
   ]
  },
  {
   "cell_type": "code",
   "execution_count": 14,
   "metadata": {},
   "outputs": [
    {
     "name": "stderr",
     "output_type": "stream",
     "text": [
      "100%|████████████████████████████████████████████████████████████████████████████████| 142/142 [00:37<00:00,  2.02it/s]\n"
     ]
    }
   ],
   "source": [
    "img_to_txt(directory=directory)"
   ]
  },
  {
   "cell_type": "code",
   "execution_count": null,
   "metadata": {},
   "outputs": [],
   "source": [
    "tst = pytesseract.image_to_string(Image.open('C:/Users/Tsantilas I/Desktop/OSINT_work/scrape_ONSIT/cases/Warrior-Eli-Hoax/Images/Img_101.jpg'))"
   ]
  },
  {
   "cell_type": "code",
   "execution_count": null,
   "metadata": {},
   "outputs": [],
   "source": [
    "tst.replace(\"\\n\", \" \")"
   ]
  },
  {
   "cell_type": "code",
   "execution_count": null,
   "metadata": {},
   "outputs": [],
   "source": []
  }
 ],
 "metadata": {
  "kernelspec": {
   "display_name": "Python 3",
   "language": "python",
   "name": "python3"
  },
  "language_info": {
   "codemirror_mode": {
    "name": "ipython",
    "version": 3
   },
   "file_extension": ".py",
   "mimetype": "text/x-python",
   "name": "python",
   "nbconvert_exporter": "python",
   "pygments_lexer": "ipython3",
   "version": "3.7.3"
  }
 },
 "nbformat": 4,
 "nbformat_minor": 4
}
